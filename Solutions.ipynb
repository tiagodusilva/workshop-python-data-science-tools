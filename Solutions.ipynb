{
 "cells": [
  {
   "cell_type": "markdown",
   "id": "worthy-burton",
   "metadata": {},
   "source": [
    "# Solutions\n",
    "\n",
    "## Numpy "
   ]
  },
  {
   "cell_type": "code",
   "execution_count": 1,
   "id": "noble-overall",
   "metadata": {},
   "outputs": [],
   "source": [
    "import numpy as np"
   ]
  },
  {
   "cell_type": "markdown",
   "id": "assumed-arlington",
   "metadata": {},
   "source": [
    "### Exercises"
   ]
  },
  {
   "cell_type": "markdown",
   "id": "selected-morrison",
   "metadata": {},
   "source": [
    "1. Create a vector of length 10 with values evenly distributed between 5 and 50.\n",
    "\n",
    "\n",
    "\n",
    "\n",
    "\n",
    "\n"
   ]
  },
  {
   "cell_type": "code",
   "execution_count": 2,
   "id": "governmental-opposition",
   "metadata": {},
   "outputs": [
    {
     "data": {
      "text/plain": [
       "array([ 5., 10., 15., 20., 25., 30., 35., 40., 45., 50.])"
      ]
     },
     "execution_count": 2,
     "metadata": {},
     "output_type": "execute_result"
    }
   ],
   "source": [
    "np.linspace(5, 50, 10)"
   ]
  },
  {
   "cell_type": "markdown",
   "id": "fluid-shore",
   "metadata": {},
   "source": [
    "2. Create an array of shape (3, 2) filled with the number 5."
   ]
  },
  {
   "cell_type": "code",
   "execution_count": 3,
   "id": "junior-water",
   "metadata": {},
   "outputs": [
    {
     "data": {
      "text/plain": [
       "array([[5., 5.],\n",
       "       [5., 5.],\n",
       "       [5., 5.]])"
      ]
     },
     "execution_count": 3,
     "metadata": {},
     "output_type": "execute_result"
    }
   ],
   "source": [
    "np.ones((3, 2)) * 5"
   ]
  },
  {
   "cell_type": "markdown",
   "id": "absolute-posting",
   "metadata": {},
   "source": [
    "3. Convert the values of Fahrenheit degrees stored in `[0, 12, 45, 34, 99]` into Centigrade degrees."
   ]
  },
  {
   "cell_type": "code",
   "execution_count": 4,
   "id": "understood-shanghai",
   "metadata": {},
   "outputs": [
    {
     "data": {
      "text/plain": [
       "array([-17.77777778, -11.11111111,   7.22222222,   1.11111111,\n",
       "        37.22222222])"
      ]
     },
     "execution_count": 4,
     "metadata": {},
     "output_type": "execute_result"
    }
   ],
   "source": [
    "(np.array([0, 12, 45, 34, 99]) - 32) / 1.8"
   ]
  },
  {
   "cell_type": "markdown",
   "id": "offshore-allergy",
   "metadata": {},
   "source": [
    "4. Get the indices of the elements that are bigger than 10 in `[[0, 10, 20], [20, 30, 40]]`."
   ]
  },
  {
   "cell_type": "code",
   "execution_count": 5,
   "id": "collective-supervisor",
   "metadata": {},
   "outputs": [
    {
     "data": {
      "text/plain": [
       "array([[0, 2],\n",
       "       [1, 0],\n",
       "       [1, 1],\n",
       "       [1, 2]], dtype=int32)"
      ]
     },
     "execution_count": 5,
     "metadata": {},
     "output_type": "execute_result"
    }
   ],
   "source": [
    "np.argwhere(np.array([[0, 10, 20], [20, 30, 40]]) > 10)"
   ]
  },
  {
   "cell_type": "markdown",
   "id": "agreed-tooth",
   "metadata": {},
   "source": [
    "5. Change the shape of `[1, 2, 3, 4, 5, 6]` to (3, 2) and select its first two rows."
   ]
  },
  {
   "cell_type": "code",
   "execution_count": 6,
   "id": "sunset-tourism",
   "metadata": {},
   "outputs": [
    {
     "data": {
      "text/plain": [
       "array([[1, 2],\n",
       "       [3, 4]])"
      ]
     },
     "execution_count": 6,
     "metadata": {},
     "output_type": "execute_result"
    }
   ],
   "source": [
    "np.array([1, 2, 3, 4, 5, 6]).reshape(3, 2)[:2]"
   ]
  },
  {
   "cell_type": "markdown",
   "id": "amino-threshold",
   "metadata": {},
   "source": [
    "6. Calculate the inner product of [4, 5] and [7, 10]."
   ]
  },
  {
   "cell_type": "code",
   "execution_count": 7,
   "id": "working-mercy",
   "metadata": {},
   "outputs": [
    {
     "data": {
      "text/plain": [
       "78"
      ]
     },
     "execution_count": 7,
     "metadata": {},
     "output_type": "execute_result"
    }
   ],
   "source": [
    "np.dot(np.array([4, 5]), np.array([7, 10]))"
   ]
  },
  {
   "cell_type": "markdown",
   "id": "convenient-composition",
   "metadata": {},
   "source": [
    "7. Calculate the normalized vector perpendicular to `[1, 5, 3]` and `[8, 4, 2]`."
   ]
  },
  {
   "cell_type": "code",
   "execution_count": 8,
   "id": "enabling-yacht",
   "metadata": {},
   "outputs": [
    {
     "data": {
      "text/plain": [
       "array([-0.04735137,  0.5208651 , -0.8523247 ])"
      ]
     },
     "execution_count": 8,
     "metadata": {},
     "output_type": "execute_result"
    }
   ],
   "source": [
    "a = np.cross(np.array([1, 5, 3]), (np.array([8, 4, 2])))\n",
    "a = a / np.linalg.norm(a)\n",
    "a"
   ]
  },
  {
   "cell_type": "markdown",
   "id": "apart-scientist",
   "metadata": {},
   "source": [
    "8. Subtract `[1, 0, 3]` from each row of the array `[[0, 0, 0], [1, 2, 3], [4, 5, 6]]` using broadcasting."
   ]
  },
  {
   "cell_type": "code",
   "execution_count": 9,
   "id": "similar-subcommittee",
   "metadata": {},
   "outputs": [
    {
     "data": {
      "text/plain": [
       "array([[-1,  0, -3],\n",
       "       [ 0,  2,  0],\n",
       "       [ 3,  5,  3]])"
      ]
     },
     "execution_count": 9,
     "metadata": {},
     "output_type": "execute_result"
    }
   ],
   "source": [
    "np.array([[0, 0, 0], [1, 2, 3], [4, 5, 6]]) - np.array([1, 0, 3])"
   ]
  },
  {
   "cell_type": "markdown",
   "id": "ahead-james",
   "metadata": {},
   "source": [
    "## SymPy"
   ]
  },
  {
   "cell_type": "code",
   "execution_count": 51,
   "id": "artificial-afternoon",
   "metadata": {},
   "outputs": [],
   "source": [
    "from sympy import *\n",
    "\n",
    "x, y = symbols(\"x y\")\n",
    "f, g = symbols('f g', cls=Function)"
   ]
  },
  {
   "cell_type": "markdown",
   "id": "spare-diploma",
   "metadata": {},
   "source": [
    "### Exercises"
   ]
  },
  {
   "cell_type": "markdown",
   "id": "terminal-entrepreneur",
   "metadata": {},
   "source": [
    "1. Find 100 digits of $\\pi^{e}$"
   ]
  },
  {
   "cell_type": "code",
   "execution_count": 27,
   "id": "beneficial-detail",
   "metadata": {},
   "outputs": [
    {
     "data": {
      "text/latex": [
       "$\\displaystyle 22.45915771836104547342715220454373502758931513399669224920300255406692604039911791231851975272714303$"
      ],
      "text/plain": [
       "22.45915771836104547342715220454373502758931513399669224920300255406692604039911791231851975272714303"
      ]
     },
     "execution_count": 27,
     "metadata": {},
     "output_type": "execute_result"
    }
   ],
   "source": [
    "(pi ** E).n(100)"
   ]
  },
  {
   "cell_type": "markdown",
   "id": "exotic-carrier",
   "metadata": {},
   "source": [
    "2. Expand $(x + y)^{2}(x - y)(x^{2} + y)$"
   ]
  },
  {
   "cell_type": "code",
   "execution_count": 18,
   "id": "allied-documentation",
   "metadata": {},
   "outputs": [
    {
     "data": {
      "text/latex": [
       "$\\displaystyle x^{3} + x^{2} y + x^{2} - x y^{2} - y^{3} + y$"
      ],
      "text/plain": [
       "x**3 + x**2*y + x**2 - x*y**2 - y**3 + y"
      ]
     },
     "execution_count": 18,
     "metadata": {},
     "output_type": "execute_result"
    }
   ],
   "source": [
    "((x + y) ** 2 * (x - y) + (x ** 2 + y)).expand()"
   ]
  },
  {
   "cell_type": "markdown",
   "id": "serious-operation",
   "metadata": {},
   "source": [
    "3. Simplify $\\frac{1}{x} + \\frac{x sin(x) - 1}{x^{2} - 1}$"
   ]
  },
  {
   "cell_type": "code",
   "execution_count": 19,
   "id": "reported-tobago",
   "metadata": {},
   "outputs": [
    {
     "data": {
      "text/latex": [
       "$\\displaystyle \\frac{x^{2} \\sin{\\left(x \\right)} + x^{2} - x - 1}{x^{3} - x}$"
      ],
      "text/plain": [
       "(x**2*sin(x) + x**2 - x - 1)/(x**3 - x)"
      ]
     },
     "execution_count": 19,
     "metadata": {},
     "output_type": "execute_result"
    }
   ],
   "source": [
    "simplify((1 / x) + (x * sin(x) - 1) / (x ** 2 - 1))"
   ]
  },
  {
   "cell_type": "markdown",
   "id": "minor-kidney",
   "metadata": {},
   "source": [
    "4. Find roots of $x^{4} - 4x^{3} + 2x^{2} - x$"
   ]
  },
  {
   "cell_type": "code",
   "execution_count": 28,
   "id": "caring-explanation",
   "metadata": {},
   "outputs": [
    {
     "data": {
      "text/plain": [
       "[0,\n",
       " 4/3 + (-1/2 - sqrt(3)*I/2)*(sqrt(321)/18 + 83/54)**(1/3) + 10/(9*(-1/2 - sqrt(3)*I/2)*(sqrt(321)/18 + 83/54)**(1/3)),\n",
       " 4/3 + 10/(9*(-1/2 + sqrt(3)*I/2)*(sqrt(321)/18 + 83/54)**(1/3)) + (-1/2 + sqrt(3)*I/2)*(sqrt(321)/18 + 83/54)**(1/3),\n",
       " 10/(9*(sqrt(321)/18 + 83/54)**(1/3)) + 4/3 + (sqrt(321)/18 + 83/54)**(1/3)]"
      ]
     },
     "execution_count": 28,
     "metadata": {},
     "output_type": "execute_result"
    }
   ],
   "source": [
    "solve(x ** 4 - 4 * x ** 3 + 2 * x ** 2 - x)"
   ]
  },
  {
   "cell_type": "markdown",
   "id": "incorporated-registrar",
   "metadata": {},
   "source": [
    "5. Solve the following equation system $x + y = 4$ and $x \\cdot y = 3$"
   ]
  },
  {
   "cell_type": "code",
   "execution_count": 30,
   "id": "employed-trouble",
   "metadata": {},
   "outputs": [
    {
     "data": {
      "text/plain": [
       "[(1, 3), (3, 1)]"
      ]
     },
     "execution_count": 30,
     "metadata": {},
     "output_type": "execute_result"
    }
   ],
   "source": [
    "solve([x + y - 4, x * y - 3], [x, y])"
   ]
  },
  {
   "cell_type": "markdown",
   "id": "organic-batman",
   "metadata": {},
   "source": [
    "6. Calculate the left-sided limit of the function $\\frac{|x|}{x}$"
   ]
  },
  {
   "cell_type": "code",
   "execution_count": 32,
   "id": "owned-steal",
   "metadata": {},
   "outputs": [
    {
     "data": {
      "text/latex": [
       "$\\displaystyle -1$"
      ],
      "text/plain": [
       "-1"
      ]
     },
     "execution_count": 32,
     "metadata": {},
     "output_type": "execute_result"
    }
   ],
   "source": [
    "limit(abs(x) / x, x, 0, dir='-')"
   ]
  },
  {
   "cell_type": "markdown",
   "id": "relevant-heath",
   "metadata": {},
   "source": [
    "7. Calculate the definite integral of the function $cos^{3}{x}$ between 0 and $\\frac{\\pi}{2}$"
   ]
  },
  {
   "cell_type": "code",
   "execution_count": 47,
   "id": "experienced-petersburg",
   "metadata": {},
   "outputs": [
    {
     "data": {
      "text/latex": [
       "$\\displaystyle \\frac{2}{3}$"
      ],
      "text/plain": [
       "2/3"
      ]
     },
     "execution_count": 47,
     "metadata": {},
     "output_type": "execute_result"
    }
   ],
   "source": [
    "integrate(cos(x) ** 3, (x, 0, pi / 2))"
   ]
  },
  {
   "cell_type": "markdown",
   "id": "varied-riverside",
   "metadata": {},
   "source": [
    "8. Solve the differential equation $f''(x) + 9f(x) = 1$"
   ]
  },
  {
   "cell_type": "code",
   "execution_count": 53,
   "id": "heard-universal",
   "metadata": {},
   "outputs": [
    {
     "data": {
      "text/latex": [
       "$\\displaystyle f{\\left(x \\right)} = C_{1} \\sin{\\left(3 x \\right)} + C_{2} \\cos{\\left(3 x \\right)} + \\frac{1}{9}$"
      ],
      "text/plain": [
       "Eq(f(x), C1*sin(3*x) + C2*cos(3*x) + 1/9)"
      ]
     },
     "execution_count": 53,
     "metadata": {},
     "output_type": "execute_result"
    }
   ],
   "source": [
    "dsolve(f(x).diff(x, x) + 9 * f(x) - 1, f(x))"
   ]
  }
 ],
 "metadata": {
  "kernelspec": {
   "display_name": "Python 3",
   "language": "python",
   "name": "python3"
  },
  "language_info": {
   "codemirror_mode": {
    "name": "ipython",
    "version": 3
   },
   "file_extension": ".py",
   "mimetype": "text/x-python",
   "name": "python",
   "nbconvert_exporter": "python",
   "pygments_lexer": "ipython3",
   "version": "3.8.1"
  }
 },
 "nbformat": 4,
 "nbformat_minor": 5
}
