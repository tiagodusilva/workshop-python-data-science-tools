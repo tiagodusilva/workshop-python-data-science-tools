{
 "cells": [
  {
   "cell_type": "markdown",
   "id": "downtown-initial",
   "metadata": {},
   "source": [
    "# NumPy\n",
    "\n",
    "## Useful information\n",
    "\n",
    "[PyPl](https://pypi.org/project/numpy/)   \n",
    "[Website](https://matplotlib.org/)  \n",
    "[Documentation](https://numpy.org/doc/stable/reference)  \n",
    "[Quickstart](https://numpy.org/doc/stable/user/quickstart.html)  \n",
    "[Cheatsheet](https://s3.amazonaws.com/assets.datacamp.com/blog_assets/Numpy_Python_Cheat_Sheet.pdf)\n",
    "  \n",
    "<img src=\"https://techscript24.com/wp-content/uploads/2020/10/86498201-a8bd8680-bd39-11ea-9d08-66b610a8dc01.png)\" width=200 height=200 />"
   ]
  },
  {
   "cell_type": "markdown",
   "id": "referenced-liberal",
   "metadata": {},
   "source": [
    "## Introduction\n",
    "\n",
    "NumPy is a library for the Python programming language, adding support for large, multi-dimensional arrays and matrices, along with a large collection of high-level mathematical functions to operate on these arrays, in a faster and more compact way than Python lists.\n",
    "\n",
    "To start using it, just import in Python, for example, like this."
   ]
  },
  {
   "cell_type": "code",
   "execution_count": 1,
   "id": "amazing-triumph",
   "metadata": {},
   "outputs": [],
   "source": [
    "import numpy as np"
   ]
  },
  {
   "cell_type": "markdown",
   "id": "multiple-montgomery",
   "metadata": {},
   "source": [
    "## The Basics of NumPy Arrays "
   ]
  },
  {
   "cell_type": "markdown",
   "id": "sweet-veteran",
   "metadata": {},
   "source": [
    "### NumPy for Matlab users\n",
    "\n",
    "MATLAB and NumPy have a lot in common. But there are many differences. NumPy was created to do numerical and scientific computing in the most natural way with Python, not to be a MATLAB clone.\n",
    "\n",
    "However, it might be useful to draw a parallel line between these two, if you are already familiar with MATLAB matrix structures and methods. So, we advise you to consult the key differences and similataries between MATLAB and NumPy [here](https://numpy.org/doc/stable/user/numpy-for-matlab-users.html)."
   ]
  },
  {
   "cell_type": "markdown",
   "id": "formed-prison",
   "metadata": {},
   "source": [
    "### The ndarray data structure\n",
    "\n",
    "The core functionality of NumPy is its `ndarray`, for *n*-dimensional array, data structure. These arrays are strided views on memory. \n",
    "\n",
    "In contrast to Python's built-in list data structure, these arrays are homogeneously typed: all elements of a single array must be of the same type."
   ]
  },
  {
   "cell_type": "code",
   "execution_count": 2,
   "id": "stupid-national",
   "metadata": {},
   "outputs": [
    {
     "name": "stdout",
     "output_type": "stream",
     "text": [
      "<class 'numpy.ndarray'>\n",
      "[1 2 3]\n"
     ]
    }
   ],
   "source": [
    "a = np.array([1, 2, 3])   # Create a NumPy array\n",
    "\n",
    "print(type(a))           \n",
    "print(a)  "
   ]
  },
  {
   "cell_type": "markdown",
   "id": "urban-nature",
   "metadata": {},
   "source": [
    "### Datatypes\n",
    "\n",
    "As mentioned above, NumPy arrays are a grid of elements of the same type. So it provides a large set of numeric datatypes that you can use to construct arrays. \n",
    "\n",
    "NumPy tries to guess a datatype when you create an array, but functions that construct arrays usually also include an optional argument to explicitly specify the datatype.\n",
    "\n",
    "Since NumPy is mostly written in C, these types map to C numeric types. You can check them all [here](https://numpy.org/devdocs/user/basics.types.html)."
   ]
  },
  {
   "cell_type": "code",
   "execution_count": 3,
   "id": "competent-russian",
   "metadata": {},
   "outputs": [
    {
     "name": "stdout",
     "output_type": "stream",
     "text": [
      "int32\n",
      "float64\n",
      "int64\n"
     ]
    }
   ],
   "source": [
    "import numpy as np\n",
    "\n",
    "x = np.array([1, 2])                   # Let numpy choose the datatype\n",
    "print(x.dtype)         \n",
    "\n",
    "x = np.array([1.0, 2.0])               # Let numpy choose the datatype\n",
    "print(x.dtype)             \n",
    "\n",
    "x = np.array([1, 2], dtype=np.int64)   # Force a particular datatype\n",
    "print(x.dtype)                        "
   ]
  },
  {
   "cell_type": "markdown",
   "id": "royal-supervisor",
   "metadata": {},
   "source": [
    "### Shape\n",
    "\n",
    "The shape of an array is a tuple of integers giving the size of the array along each dimension. The number of dimensions of an array its called its rank."
   ]
  },
  {
   "cell_type": "code",
   "execution_count": 4,
   "id": "tired-render",
   "metadata": {},
   "outputs": [
    {
     "name": "stdout",
     "output_type": "stream",
     "text": [
      "(2,)\n",
      "(2, 4)\n"
     ]
    }
   ],
   "source": [
    "a = np.array([1, 2])   # Rank 1 array   \n",
    "\n",
    "print(a.shape)\n",
    " \n",
    "b = np.array([         # Rank 2 array  \n",
    "    [1, 2, 3, 4], \n",
    "    [5, 6, 7, 8]\n",
    "])    \n",
    "\n",
    "print(b.shape)"
   ]
  },
  {
   "cell_type": "markdown",
   "id": "pleasant-passage",
   "metadata": {},
   "source": [
    "A minimum dimension might even be specified when creating an array."
   ]
  },
  {
   "cell_type": "code",
   "execution_count": 5,
   "id": "smooth-melbourne",
   "metadata": {},
   "outputs": [
    {
     "name": "stdout",
     "output_type": "stream",
     "text": [
      "[[[[[1 2 3 4]]]]]\n",
      "(1, 1, 1, 1, 4)\n"
     ]
    }
   ],
   "source": [
    "a = np.array([1, 2, 3, 4], ndmin=5)\n",
    "\n",
    "print(a)\n",
    "print(a.shape)"
   ]
  },
  {
   "cell_type": "markdown",
   "id": "stainless-blackjack",
   "metadata": {},
   "source": [
    "### Initial placeholders"
   ]
  },
  {
   "cell_type": "markdown",
   "id": "seven-register",
   "metadata": {},
   "source": [
    "Sometimes we just want to create arrays filled with placeholder values, looking for an easier way to declare arrays of a given size with ease and without the trouble of filling them manually."
   ]
  },
  {
   "cell_type": "code",
   "execution_count": 6,
   "id": "executed-benefit",
   "metadata": {},
   "outputs": [],
   "source": [
    "np.zeros([3, 4])           # Creates an array filled with zeros\n",
    "np.ones([3, 4])            # Creates an array filled with ones\n",
    "np.arange(10, 26, 5)       # Creates an array of evenly spaced values (min, max, step)\n",
    "np.linspace(0, 2, 9)       # Creates an array of evenly spaced values (min, max, size)\n",
    "np.full((2, 2), 7)         # Creates an array filled with a constant value\n",
    "np.random.random((2, 2))   # Creates an array filled with random values\n",
    "np.empty((3, 2));          # Creates an empty array"
   ]
  },
  {
   "cell_type": "markdown",
   "id": "amateur-aviation",
   "metadata": {},
   "source": [
    "## Array indexing\n",
    "\n",
    "Similar to Python lists, NumPy arrays can be sliced and indexed. "
   ]
  },
  {
   "cell_type": "code",
   "execution_count": 7,
   "id": "raising-kingston",
   "metadata": {},
   "outputs": [
    {
     "name": "stdout",
     "output_type": "stream",
     "text": [
      "[1 2 3]\n"
     ]
    }
   ],
   "source": [
    "a = np.array([1, 2, 3])\n",
    "\n",
    "print(a)"
   ]
  },
  {
   "cell_type": "code",
   "execution_count": 8,
   "id": "tracked-catalyst",
   "metadata": {},
   "outputs": [
    {
     "name": "stdout",
     "output_type": "stream",
     "text": [
      "[[1 2 3]\n",
      " [4 5 6]]\n"
     ]
    }
   ],
   "source": [
    "b = np.array([\n",
    "    [1, 2, 3],\n",
    "    [4, 5, 6]\n",
    "])\n",
    "\n",
    "print(b)"
   ]
  },
  {
   "cell_type": "markdown",
   "id": "engaging-brother",
   "metadata": {},
   "source": [
    "### Subsetting"
   ]
  },
  {
   "cell_type": "code",
   "execution_count": 9,
   "id": "previous-growth",
   "metadata": {},
   "outputs": [
    {
     "data": {
      "text/plain": [
       "3"
      ]
     },
     "execution_count": 9,
     "metadata": {},
     "output_type": "execute_result"
    }
   ],
   "source": [
    "a[2]"
   ]
  },
  {
   "cell_type": "code",
   "execution_count": 10,
   "id": "technological-sound",
   "metadata": {},
   "outputs": [
    {
     "data": {
      "text/plain": [
       "6"
      ]
     },
     "execution_count": 10,
     "metadata": {},
     "output_type": "execute_result"
    }
   ],
   "source": [
    "b[1, 2]"
   ]
  },
  {
   "cell_type": "markdown",
   "id": "educational-arlington",
   "metadata": {},
   "source": [
    "### Slicing\n",
    "\n",
    "Since arrays may be multidimensional, you must specify a slice for each dimension of the array."
   ]
  },
  {
   "cell_type": "code",
   "execution_count": 11,
   "id": "parliamentary-approach",
   "metadata": {},
   "outputs": [
    {
     "data": {
      "text/plain": [
       "array([1, 2])"
      ]
     },
     "execution_count": 11,
     "metadata": {},
     "output_type": "execute_result"
    }
   ],
   "source": [
    "a[0:2]  "
   ]
  },
  {
   "cell_type": "code",
   "execution_count": 12,
   "id": "transparent-fiber",
   "metadata": {},
   "outputs": [
    {
     "data": {
      "text/plain": [
       "array([2, 5])"
      ]
     },
     "execution_count": 12,
     "metadata": {},
     "output_type": "execute_result"
    }
   ],
   "source": [
    "b[0:2, 1]"
   ]
  },
  {
   "cell_type": "code",
   "execution_count": 13,
   "id": "progressive-source",
   "metadata": {},
   "outputs": [
    {
     "name": "stdout",
     "output_type": "stream",
     "text": [
      "[[1 2 3]\n",
      " [4 5 6]]\n"
     ]
    }
   ],
   "source": [
    "c = b[1, :]\n",
    "c = [7, 8, 9]\n",
    "\n",
    "print(b)"
   ]
  },
  {
   "cell_type": "markdown",
   "id": "hazardous-format",
   "metadata": {},
   "source": [
    "### Boolean indexing\n",
    "\n",
    "Boolean array indexing lets you pick out arbitrary elements of an array. Frequently this type of indexing is used to select the elements of an array that satisfy some condition."
   ]
  },
  {
   "cell_type": "code",
   "execution_count": 14,
   "id": "opposed-poverty",
   "metadata": {},
   "outputs": [
    {
     "data": {
      "text/plain": [
       "array([1])"
      ]
     },
     "execution_count": 14,
     "metadata": {},
     "output_type": "execute_result"
    }
   ],
   "source": [
    "a[a < 2]"
   ]
  },
  {
   "cell_type": "code",
   "execution_count": 15,
   "id": "prescription-teens",
   "metadata": {},
   "outputs": [
    {
     "data": {
      "text/plain": [
       "array([2, 4, 6])"
      ]
     },
     "execution_count": 15,
     "metadata": {},
     "output_type": "execute_result"
    }
   ],
   "source": [
    "b[b % 2 == 0]"
   ]
  },
  {
   "cell_type": "markdown",
   "id": "medieval-hydrogen",
   "metadata": {},
   "source": [
    "## Array mathematics\n",
    "\n",
    "### Arithmetic operations\n",
    "\n",
    "Basic mathematical functions operate elementwise on arrays, and are available both as operator overloads and as functions in the NumPy module:"
   ]
  },
  {
   "cell_type": "code",
   "execution_count": 16,
   "id": "downtown-gospel",
   "metadata": {},
   "outputs": [
    {
     "name": "stdout",
     "output_type": "stream",
     "text": [
      "[[1. 2.]\n",
      " [3. 4.]]\n",
      "[[5. 6.]\n",
      " [7. 8.]]\n"
     ]
    }
   ],
   "source": [
    "x = np.array([[1,2],[3,4]], dtype=np.float64)\n",
    "y = np.array([[5,6],[7,8]], dtype=np.float64)\n",
    "\n",
    "print(x)\n",
    "print(y)"
   ]
  },
  {
   "cell_type": "markdown",
   "id": "governmental-tucson",
   "metadata": {},
   "source": [
    "#### Addition"
   ]
  },
  {
   "cell_type": "code",
   "execution_count": 17,
   "id": "opponent-swing",
   "metadata": {},
   "outputs": [
    {
     "name": "stdout",
     "output_type": "stream",
     "text": [
      "[[ 6.  8.]\n",
      " [10. 12.]]\n",
      "[[ 6.  8.]\n",
      " [10. 12.]]\n"
     ]
    }
   ],
   "source": [
    "print(x + y)\n",
    "print(np.add(x, y))"
   ]
  },
  {
   "cell_type": "markdown",
   "id": "presidential-musician",
   "metadata": {},
   "source": [
    "#### Subtraction"
   ]
  },
  {
   "cell_type": "code",
   "execution_count": 18,
   "id": "hawaiian-affair",
   "metadata": {},
   "outputs": [
    {
     "name": "stdout",
     "output_type": "stream",
     "text": [
      "[[-4. -4.]\n",
      " [-4. -4.]]\n",
      "[[-4. -4.]\n",
      " [-4. -4.]]\n"
     ]
    }
   ],
   "source": [
    "print(x - y)\n",
    "print(np.subtract(x, y))"
   ]
  },
  {
   "cell_type": "markdown",
   "id": "broke-architect",
   "metadata": {},
   "source": [
    "#### Multiplication"
   ]
  },
  {
   "cell_type": "code",
   "execution_count": 19,
   "id": "prompt-adrian",
   "metadata": {},
   "outputs": [
    {
     "name": "stdout",
     "output_type": "stream",
     "text": [
      "[[ 5. 12.]\n",
      " [21. 32.]]\n",
      "[[ 5. 12.]\n",
      " [21. 32.]]\n"
     ]
    }
   ],
   "source": [
    "print(x * y)\n",
    "print(np.multiply(x, y))"
   ]
  },
  {
   "cell_type": "markdown",
   "id": "appreciated-northeast",
   "metadata": {},
   "source": [
    "#### Division"
   ]
  },
  {
   "cell_type": "code",
   "execution_count": 20,
   "id": "lightweight-promise",
   "metadata": {},
   "outputs": [
    {
     "name": "stdout",
     "output_type": "stream",
     "text": [
      "[[0.2        0.33333333]\n",
      " [0.42857143 0.5       ]]\n",
      "[[0.2        0.33333333]\n",
      " [0.42857143 0.5       ]]\n"
     ]
    }
   ],
   "source": [
    "print(x / y)\n",
    "print(np.divide(x, y))"
   ]
  },
  {
   "cell_type": "markdown",
   "id": "painful-agreement",
   "metadata": {},
   "source": [
    "#### Squareroot"
   ]
  },
  {
   "cell_type": "code",
   "execution_count": 21,
   "id": "intended-confusion",
   "metadata": {},
   "outputs": [
    {
     "name": "stdout",
     "output_type": "stream",
     "text": [
      "[[1.         1.41421356]\n",
      " [1.73205081 2.        ]]\n"
     ]
    }
   ],
   "source": [
    "print(np.sqrt(x))"
   ]
  },
  {
   "cell_type": "markdown",
   "id": "regulated-manchester",
   "metadata": {},
   "source": [
    "### Product operations"
   ]
  },
  {
   "cell_type": "code",
   "execution_count": 22,
   "id": "controlled-prospect",
   "metadata": {},
   "outputs": [
    {
     "name": "stdout",
     "output_type": "stream",
     "text": [
      "[[1 2]\n",
      " [3 4]]\n",
      "[[5 6]\n",
      " [7 8]]\n"
     ]
    }
   ],
   "source": [
    "x = np.array([[1, 2],[3, 4]])\n",
    "y = np.array([[5, 6],[7, 8]])\n",
    "\n",
    "print(x)\n",
    "print(y)"
   ]
  },
  {
   "cell_type": "code",
   "execution_count": 23,
   "id": "accompanied-match",
   "metadata": {},
   "outputs": [
    {
     "name": "stdout",
     "output_type": "stream",
     "text": [
      "[ 9 10]\n",
      "[11 12]\n"
     ]
    }
   ],
   "source": [
    "v = np.array([9, 10])\n",
    "w = np.array([11, 12])\n",
    "\n",
    "print(v)\n",
    "print(w)"
   ]
  },
  {
   "cell_type": "markdown",
   "id": "appointed-crisis",
   "metadata": {},
   "source": [
    "#### Inner product"
   ]
  },
  {
   "cell_type": "markdown",
   "id": "engaging-sister",
   "metadata": {},
   "source": [
    "Inner product of vectors, produces a scalar"
   ]
  },
  {
   "cell_type": "code",
   "execution_count": 24,
   "id": "fewer-recording",
   "metadata": {},
   "outputs": [
    {
     "name": "stdout",
     "output_type": "stream",
     "text": [
      "219\n",
      "219\n"
     ]
    }
   ],
   "source": [
    "print(v.dot(w))\n",
    "print(np.dot(v, w))"
   ]
  },
  {
   "cell_type": "markdown",
   "id": "ancient-wheel",
   "metadata": {},
   "source": [
    "Product of matrix and vector, produces a vector "
   ]
  },
  {
   "cell_type": "code",
   "execution_count": 25,
   "id": "partial-delivery",
   "metadata": {},
   "outputs": [
    {
     "name": "stdout",
     "output_type": "stream",
     "text": [
      "[29 67]\n",
      "[29 67]\n"
     ]
    }
   ],
   "source": [
    "print(x.dot(v))\n",
    "print(np.dot(x, v))"
   ]
  },
  {
   "cell_type": "markdown",
   "id": "charitable-colony",
   "metadata": {},
   "source": [
    "Product of two matrixes, produces a matrix"
   ]
  },
  {
   "cell_type": "code",
   "execution_count": 26,
   "id": "cellular-nurse",
   "metadata": {},
   "outputs": [
    {
     "name": "stdout",
     "output_type": "stream",
     "text": [
      "[[19 22]\n",
      " [43 50]]\n",
      "[[19 22]\n",
      " [43 50]]\n"
     ]
    }
   ],
   "source": [
    "print(x.dot(y))\n",
    "print(np.dot(x, y))"
   ]
  },
  {
   "cell_type": "markdown",
   "id": "agricultural-bolivia",
   "metadata": {},
   "source": [
    "#### Cross product\n"
   ]
  },
  {
   "cell_type": "code",
   "execution_count": 27,
   "id": "exclusive-singles",
   "metadata": {},
   "outputs": [
    {
     "name": "stdout",
     "output_type": "stream",
     "text": [
      "[-3  6 -3]\n"
     ]
    }
   ],
   "source": [
    "x = [1, 2, 3]\n",
    "y = [4, 5, 6]\n",
    "\n",
    "print(np.cross(x, y))"
   ]
  },
  {
   "cell_type": "markdown",
   "id": "aggregate-suspect",
   "metadata": {},
   "source": [
    "### Aggregations\n",
    "\n",
    "`np.prod` - Compute product of elements  \n",
    "`np.mean` - Compute mean of elements  \n",
    "`np.std` - Compute standard deviation  \n",
    "`np.var` - Compute variance   \n",
    "`np.min` / `np.max`- Find minimum/maximum value  \n",
    "`np.argmin` / `np.argmax` - Find index of minimum/maximum value  \n",
    "`np.median` - Compute median of elements  \n",
    "`np.percentile` - Compute rank-based statistics of elements  \n",
    "`np.any` - Evaluate whether any elements are true  \n",
    "`np.all` - Evaluate whether all elements are true  "
   ]
  },
  {
   "cell_type": "markdown",
   "id": "outstanding-spank",
   "metadata": {},
   "source": [
    "## Array manipulation"
   ]
  },
  {
   "cell_type": "code",
   "execution_count": 28,
   "id": "ambient-mandate",
   "metadata": {},
   "outputs": [],
   "source": [
    "i = np.array([[1, 2, 3], [1, 2, 3]])"
   ]
  },
  {
   "cell_type": "markdown",
   "id": "sexual-gibraltar",
   "metadata": {},
   "source": [
    "### Tranposing arrays"
   ]
  },
  {
   "cell_type": "code",
   "execution_count": 29,
   "id": "protective-remark",
   "metadata": {},
   "outputs": [
    {
     "data": {
      "text/plain": [
       "array([[1, 1],\n",
       "       [2, 2],\n",
       "       [3, 3]])"
      ]
     },
     "execution_count": 29,
     "metadata": {},
     "output_type": "execute_result"
    }
   ],
   "source": [
    "np.transpose(i)\n",
    "i.T"
   ]
  },
  {
   "cell_type": "markdown",
   "id": "sporting-process",
   "metadata": {},
   "source": [
    "### Reshaping arrays"
   ]
  },
  {
   "cell_type": "code",
   "execution_count": 30,
   "id": "sporting-sharp",
   "metadata": {},
   "outputs": [
    {
     "data": {
      "text/plain": [
       "array([1, 2, 3, 1, 2, 3])"
      ]
     },
     "execution_count": 30,
     "metadata": {},
     "output_type": "execute_result"
    }
   ],
   "source": [
    "i.ravel()   # Flatten the array"
   ]
  },
  {
   "cell_type": "code",
   "execution_count": 31,
   "id": "current-financing",
   "metadata": {},
   "outputs": [
    {
     "data": {
      "text/plain": [
       "array([[1, 2],\n",
       "       [3, 1],\n",
       "       [2, 3]])"
      ]
     },
     "execution_count": 31,
     "metadata": {},
     "output_type": "execute_result"
    }
   ],
   "source": [
    "i.reshape(3, -2)    # Change the shape of the array while maintaining its data"
   ]
  },
  {
   "cell_type": "markdown",
   "id": "initial-myanmar",
   "metadata": {},
   "source": [
    "### Adding/removing elements"
   ]
  },
  {
   "cell_type": "code",
   "execution_count": 32,
   "id": "rising-melbourne",
   "metadata": {},
   "outputs": [
    {
     "data": {
      "text/plain": [
       "array([1, 2, 3, 1, 2, 3, 4, 5, 6])"
      ]
     },
     "execution_count": 32,
     "metadata": {},
     "output_type": "execute_result"
    }
   ],
   "source": [
    "j = np.array([4, 5, 6])\n",
    "\n",
    "np.append(i, j)  # Append items to an array"
   ]
  },
  {
   "cell_type": "code",
   "execution_count": 33,
   "id": "canadian-delight",
   "metadata": {},
   "outputs": [
    {
     "data": {
      "text/plain": [
       "array([1, 2, 3, 5, 1, 2, 3])"
      ]
     },
     "execution_count": 33,
     "metadata": {},
     "output_type": "execute_result"
    }
   ],
   "source": [
    "np.insert(i, 3, 5)   # Insert items in an array"
   ]
  },
  {
   "cell_type": "code",
   "execution_count": 34,
   "id": "wound-identity",
   "metadata": {},
   "outputs": [
    {
     "data": {
      "text/plain": [
       "array([1, 3, 1, 2, 3])"
      ]
     },
     "execution_count": 34,
     "metadata": {},
     "output_type": "execute_result"
    }
   ],
   "source": [
    "np.delete(i, np.array(1))   # Delete items frok an array"
   ]
  },
  {
   "cell_type": "markdown",
   "id": "norman-respondent",
   "metadata": {},
   "source": [
    "### Combining arrays\n",
    "\n",
    "### Splitting arrays"
   ]
  },
  {
   "cell_type": "markdown",
   "id": "numerous-gardening",
   "metadata": {},
   "source": [
    "## Broadcasting\n",
    "\n",
    "Broadcasting is a powerful mechanism that allows NumPy to work with arrays of different shapes (sizes) when performing arithmetic operations. Frequently we have a smaller array and a larger array, and we want to use the smaller array multiple times to perform some operation on the larger array.\n",
    "\n",
    "For example, suppose that we want to add a constant vector to each row of a matrix."
   ]
  },
  {
   "cell_type": "code",
   "execution_count": 35,
   "id": "public-wrapping",
   "metadata": {},
   "outputs": [
    {
     "name": "stdout",
     "output_type": "stream",
     "text": [
      "[[ 2  2  4]\n",
      " [ 5  5  7]\n",
      " [ 8  8 10]\n",
      " [11 11 13]]\n"
     ]
    }
   ],
   "source": [
    "# We will add the vector v to each row of the matrix x, storing the result in the matrix y\n",
    "x = np.array([\n",
    "    [1, 2, 3], \n",
    "    [4, 5, 6],\n",
    "    [7, 8, 9],\n",
    "    [10, 11, 12]\n",
    "])\n",
    "v = np.array([1, 0, 1])\n",
    "y = np.empty_like(x)   # Create an empty matrix with the same shape as x\n",
    "\n",
    "# Add the vector v to each row of the matrix x with an explicit loop\n",
    "for i in range(4):\n",
    "    y[i, :] = x[i, :] + v\n",
    "\n",
    "print(y)"
   ]
  },
  {
   "cell_type": "markdown",
   "id": "banner-vampire",
   "metadata": {},
   "source": [
    "This works, however when the matrix `x` is very large, computing an explicit loop in Python could be slow. \n",
    "Note that adding the vector `v` to each row of the matrix `x` is equivalent to forming a matrix `vv` by stacking multiple copies of `v` \n",
    "vertically, then performing elementwise summation of x and vv. We could implement this approach like this:"
   ]
  },
  {
   "cell_type": "code",
   "execution_count": 36,
   "id": "crude-eclipse",
   "metadata": {},
   "outputs": [
    {
     "name": "stdout",
     "output_type": "stream",
     "text": [
      "[[1 0 1]\n",
      " [1 0 1]\n",
      " [1 0 1]\n",
      " [1 0 1]]\n"
     ]
    }
   ],
   "source": [
    "# We will add the vector v to each row of the matrix x, storing the result in the matrix y\n",
    "\n",
    "vv = np.tile(v, (4, 1))   # Stack 4 copies of v on top of each other\n",
    "\n",
    "print(vv)                "
   ]
  },
  {
   "cell_type": "code",
   "execution_count": 37,
   "id": "precious-decimal",
   "metadata": {},
   "outputs": [
    {
     "name": "stdout",
     "output_type": "stream",
     "text": [
      "[[ 2  2  4]\n",
      " [ 5  5  7]\n",
      " [ 8  8 10]\n",
      " [11 11 13]]\n"
     ]
    }
   ],
   "source": [
    "y = x + vv  # Add x and vv elementwise\n",
    "\n",
    "print(y)"
   ]
  },
  {
   "cell_type": "markdown",
   "id": "prompt-bones",
   "metadata": {},
   "source": [
    "NumPy broadcasting allows us to perform this computation without actually creating multiple copies of `v`. "
   ]
  },
  {
   "cell_type": "code",
   "execution_count": 38,
   "id": "alpha-aging",
   "metadata": {},
   "outputs": [
    {
     "name": "stdout",
     "output_type": "stream",
     "text": [
      "[[ 2  2  4]\n",
      " [ 5  5  7]\n",
      " [ 8  8 10]\n",
      " [11 11 13]]\n"
     ]
    }
   ],
   "source": [
    "y = x + v  # Add v to each row of x using broadcasting\n",
    "print(y)"
   ]
  },
  {
   "cell_type": "markdown",
   "id": "vital-clothing",
   "metadata": {},
   "source": [
    "### Rules\n",
    "\n",
    "Broadcasting two arrays together follows these rules\n",
    "\n",
    "1. If the arrays do not have the same rank, prepend the shape of the lower rank array with 1s until both shapes have the same length.\n",
    "2. The two arrays are said to be compatible in a dimension if they have the same size in the dimension, or if one of the arrays has size 1 in that dimension.\n",
    "3. The arrays can be broadcast together if they are compatible in all dimensions.\n",
    "4. After broadcasting, each array behaves as if it had shape equal to the elementwise maximum of shapes of the two input arrays.\n",
    "5. In any dimension where one array had size 1 and the other array had size greater than 1, the first array behaves as if it were copied along that dimension"
   ]
  },
  {
   "cell_type": "markdown",
   "id": "peripheral-press",
   "metadata": {},
   "source": [
    "## Exercises"
   ]
  },
  {
   "cell_type": "markdown",
   "id": "municipal-glance",
   "metadata": {},
   "source": [
    "1. Create a vector of length 10 with values evenly distributed between 5 and 50.\n",
    "2. Create an array of shape (3, 2) filled with the number 5.\n",
    "2. Convert the values of Fahrenheit degrees stored in `[0, 12, 45, 34, 99]` into Centigrade degrees. \n",
    "3. Get the values and indices of the elements that are bigger than 10 in `[[0, 10, 20], [20, 30, 40]]`.\n",
    "4. Change the shape of `[1, 2, 3, 4, 5, 6]` to (3, 3).\n",
    "5. Calculate the inner product of `[4, 5]` and `[7, 10]`.\n",
    "6. Subtract `[1, 0, 3]` from each row of the array `[[0, 0, 0], [1, 2, 3], [4, 5, 6]]` using broadcasting."
   ]
  },
  {
   "cell_type": "markdown",
   "id": "expanded-animation",
   "metadata": {},
   "source": [
    "## Challenge\n"
   ]
  }
 ],
 "metadata": {
  "kernelspec": {
   "display_name": "Python 3",
   "language": "python",
   "name": "python3"
  },
  "language_info": {
   "codemirror_mode": {
    "name": "ipython",
    "version": 3
   },
   "file_extension": ".py",
   "mimetype": "text/x-python",
   "name": "python",
   "nbconvert_exporter": "python",
   "pygments_lexer": "ipython3",
   "version": "3.8.1"
  },
  "toc-autonumbering": false,
  "toc-showcode": false,
  "toc-showmarkdowntxt": true,
  "toc-showtags": false
 },
 "nbformat": 4,
 "nbformat_minor": 5
}
