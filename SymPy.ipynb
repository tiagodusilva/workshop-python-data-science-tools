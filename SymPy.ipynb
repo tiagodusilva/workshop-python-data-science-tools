{
 "cells": [
  {
   "cell_type": "markdown",
   "id": "identified-knock",
   "metadata": {},
   "source": [
    "# SymPy\n",
    "\n",
    "## Useful information\n",
    "\n",
    "[PyPl](https://pypi.org/project/sympy/)  \n",
    "[Website](https://www.sympy.org/en/index.html)  \n",
    "[Documentation](https://docs.sympy.org/latest/index.html)  \n",
    "[Tutorial](https://docs.sympy.org/latest/tutorial/index.html)  \n",
    "[Cheatsheet](http://daabzlatex.s3.amazonaws.com/9065616cce623384fe5394eddfea4c52.pdf)\n",
    "\n",
    "<img src=\"https://upload.wikimedia.org/wikipedia/commons/thumb/5/54/Sympy_logo.svg/1200px-Sympy_logo.svg.png\" width=200 height=200/>\n",
    "\n",
    "## Introduction\n",
    "\n",
    "SymPy is an open source computer algebra system Python library for symbolic mathematics.\n",
    "\n",
    "To start using it, just import in Python, for example, like this."
   ]
  },
  {
   "cell_type": "code",
   "execution_count": 1,
   "id": "soviet-forge",
   "metadata": {},
   "outputs": [],
   "source": [
    "from sympy import *"
   ]
  },
  {
   "cell_type": "markdown",
   "id": "controlling-hypothesis",
   "metadata": {},
   "source": [
    "## Basics\n",
    "\n",
    "### Symbols\n",
    "\n",
    " `Symbol` is the most important class in SymPy library. Symbolic computations are done with symbols. SymPy variables are objects of `Symbols` class."
   ]
  },
  {
   "cell_type": "markdown",
   "id": "stretch-jewelry",
   "metadata": {},
   "source": [
    "To define a SymPy symbol, we can simply invoke its constructor with the respective variable's name."
   ]
  },
  {
   "cell_type": "code",
   "execution_count": 2,
   "id": "administrative-science",
   "metadata": {},
   "outputs": [],
   "source": [
    "a = Symbol('a') "
   ]
  },
  {
   "cell_type": "markdown",
   "id": "split-stockholm",
   "metadata": {},
   "source": [
    "An easier way to define multiple symbols at once is unsing `symbols` method, which takes a string of variable names separated by spaces or commas, and creates `Symbols` out of them."
   ]
  },
  {
   "cell_type": "code",
   "execution_count": 3,
   "id": "efficient-humidity",
   "metadata": {},
   "outputs": [],
   "source": [
    "x, y, z = symbols('x y z')"
   ]
  },
  {
   "cell_type": "markdown",
   "id": "demanding-kingston",
   "metadata": {},
   "source": [
    "## Operations\n",
    "\n",
    "### Substitutions\n",
    "\n",
    "One of the most common things you might want to do with a mathematical expression is substitution. Substitution replaces all instances of something in an expression with something else. It is done using the subs method. For example\n",
    "\n",
    "## Calculus\n",
    "\n",
    "### Derivative\n",
    "\n",
    "To compute a derivative the `diff`function is used."
   ]
  },
  {
   "cell_type": "code",
   "execution_count": 4,
   "id": "comprehensive-willow",
   "metadata": {},
   "outputs": [
    {
     "data": {
      "text/latex": [
       "$\\displaystyle - \\sin{\\left(x \\right)}$"
      ],
      "text/plain": [
       "-sin(x)"
      ]
     },
     "execution_count": 4,
     "metadata": {},
     "output_type": "execute_result"
    }
   ],
   "source": [
    "diff(cos(x), x)"
   ]
  },
  {
   "cell_type": "markdown",
   "id": "caring-pavilion",
   "metadata": {},
   "source": [
    "`diff` can take multiple derivatives at once. To take multiple derivatives, pass the variable as many times as you wish to differentiate, or pass a number after the variable. "
   ]
  },
  {
   "cell_type": "code",
   "execution_count": 5,
   "id": "geological-approach",
   "metadata": {},
   "outputs": [
    {
     "data": {
      "text/latex": [
       "$\\displaystyle 24 x$"
      ],
      "text/plain": [
       "24*x"
      ]
     },
     "execution_count": 5,
     "metadata": {},
     "output_type": "execute_result"
    }
   ],
   "source": [
    "diff(x**4, x, x, x)"
   ]
  },
  {
   "cell_type": "code",
   "execution_count": 6,
   "id": "clinical-boost",
   "metadata": {},
   "outputs": [
    {
     "data": {
      "text/latex": [
       "$\\displaystyle 24 x$"
      ],
      "text/plain": [
       "24*x"
      ]
     },
     "execution_count": 6,
     "metadata": {},
     "output_type": "execute_result"
    }
   ],
   "source": [
    "diff(x**4, x, 3)"
   ]
  },
  {
   "cell_type": "markdown",
   "id": "complimentary-climate",
   "metadata": {},
   "source": [
    "You can also take derivatives with respect to many variables at once. Just pass each derivative in order, using the same syntax as for single variable derivatives."
   ]
  },
  {
   "cell_type": "code",
   "execution_count": 7,
   "id": "regional-spine",
   "metadata": {},
   "outputs": [
    {
     "data": {
      "text/latex": [
       "$\\displaystyle e^{x y z}$"
      ],
      "text/plain": [
       "exp(x*y*z)"
      ]
     },
     "execution_count": 7,
     "metadata": {},
     "output_type": "execute_result"
    }
   ],
   "source": [
    "expr = exp(x*y*z)\n",
    "expr"
   ]
  },
  {
   "cell_type": "code",
   "execution_count": 8,
   "id": "amber-external",
   "metadata": {},
   "outputs": [
    {
     "data": {
      "text/latex": [
       "$\\displaystyle \\left(x^{2} y^{2} z^{2} + 3 x y z + 1\\right) e^{x y z}$"
      ],
      "text/plain": [
       "(x**2*y**2*z**2 + 3*x*y*z + 1)*exp(x*y*z)"
      ]
     },
     "execution_count": 8,
     "metadata": {},
     "output_type": "execute_result"
    }
   ],
   "source": [
    "diff(expr, x, y, z)"
   ]
  },
  {
   "cell_type": "markdown",
   "id": "enhanced-solution",
   "metadata": {},
   "source": [
    "To create an unevaluated derivative, use the `Derivative` class, which has the same syntax as `diff`."
   ]
  },
  {
   "cell_type": "code",
   "execution_count": 9,
   "id": "weighted-seminar",
   "metadata": {},
   "outputs": [
    {
     "data": {
      "text/latex": [
       "$\\displaystyle \\frac{\\partial^{3}}{\\partial z\\partial y\\partial x} e^{x y z}$"
      ],
      "text/plain": [
       "Derivative(exp(x*y*z), x, y, z)"
      ]
     },
     "execution_count": 9,
     "metadata": {},
     "output_type": "execute_result"
    }
   ],
   "source": [
    "deriv = Derivative(expr, x, y, z)\n",
    "deriv"
   ]
  },
  {
   "cell_type": "markdown",
   "id": "alert-fifteen",
   "metadata": {},
   "source": [
    "To evaluate an unevaluated derivative, use the `doit` method."
   ]
  },
  {
   "cell_type": "code",
   "execution_count": 10,
   "id": "purple-documentary",
   "metadata": {},
   "outputs": [
    {
     "data": {
      "text/latex": [
       "$\\displaystyle \\left(x^{2} y^{2} z^{2} + 3 x y z + 1\\right) e^{x y z}$"
      ],
      "text/plain": [
       "(x**2*y**2*z**2 + 3*x*y*z + 1)*exp(x*y*z)"
      ]
     },
     "execution_count": 10,
     "metadata": {},
     "output_type": "execute_result"
    }
   ],
   "source": [
    "deriv.doit()"
   ]
  },
  {
   "cell_type": "markdown",
   "id": "automotive-circulation",
   "metadata": {},
   "source": [
    "### Integration\n",
    "\n",
    "To compute an integral, the `integrate` function is used.\n",
    "\n",
    "There are two kinds of integrals, definite and indefinite. To compute an indefinite integral, that is, an antiderivative, or primitive, just pass the variable after the expression."
   ]
  },
  {
   "cell_type": "code",
   "execution_count": 11,
   "id": "identical-palestinian",
   "metadata": {},
   "outputs": [
    {
     "data": {
      "text/latex": [
       "$\\displaystyle x^{2} + x + 1$"
      ],
      "text/plain": [
       "x**2 + x + 1"
      ]
     },
     "execution_count": 11,
     "metadata": {},
     "output_type": "execute_result"
    }
   ],
   "source": [
    "expr = x**2 + x + 1 \n",
    "expr"
   ]
  },
  {
   "cell_type": "code",
   "execution_count": 12,
   "id": "pending-activity",
   "metadata": {},
   "outputs": [
    {
     "data": {
      "text/latex": [
       "$\\displaystyle \\frac{x^{3}}{3} + \\frac{x^{2}}{2} + x$"
      ],
      "text/plain": [
       "x**3/3 + x**2/2 + x"
      ]
     },
     "execution_count": 12,
     "metadata": {},
     "output_type": "execute_result"
    }
   ],
   "source": [
    "integrate(expr, x)"
   ]
  },
  {
   "cell_type": "markdown",
   "id": "spectacular-referral",
   "metadata": {},
   "source": [
    "**Note**: SymPy does not include the constant of integration. If you want it, you can add one yourself"
   ]
  },
  {
   "cell_type": "markdown",
   "id": "based-perspective",
   "metadata": {},
   "source": [
    "To compute a definite integral, pass the argument `(integration_variable, lower_limit, upper_limit)`.\n",
    "\n",
    "Here we are computing the famous [Dirichlet integral](https://en.wikipedia.org/wiki/Dirichlet_integral)."
   ]
  },
  {
   "cell_type": "code",
   "execution_count": 13,
   "id": "shared-allen",
   "metadata": {},
   "outputs": [
    {
     "data": {
      "text/latex": [
       "$\\displaystyle \\frac{\\pi}{2}$"
      ],
      "text/plain": [
       "pi/2"
      ]
     },
     "execution_count": 13,
     "metadata": {},
     "output_type": "execute_result"
    }
   ],
   "source": [
    "integrate(sin(x)/x, (x, 0, oo))"
   ]
  },
  {
   "cell_type": "markdown",
   "id": "aerial-english",
   "metadata": {},
   "source": [
    "As with indefinite integrals, you can pass multiple limit tuples or variables to perform a multiple integral."
   ]
  },
  {
   "cell_type": "code",
   "execution_count": 14,
   "id": "cordless-variation",
   "metadata": {},
   "outputs": [
    {
     "data": {
      "text/latex": [
       "$\\displaystyle \\int\\limits_{-\\infty}^{\\infty}\\int\\limits_{-\\infty}^{\\infty} e^{- x^{2} - y^{2}}\\, dx\\, dy$"
      ],
      "text/plain": [
       "Integral(exp(-x**2 - y**2), (x, -oo, oo), (y, -oo, oo))"
      ]
     },
     "execution_count": 14,
     "metadata": {},
     "output_type": "execute_result"
    }
   ],
   "source": [
    "expr = exp(-x**2 - y**2)\n",
    "inte = Integral(expr, (x, -oo, oo), (y, -oo, oo))\n",
    "inte"
   ]
  },
  {
   "cell_type": "code",
   "execution_count": 15,
   "id": "corrected-master",
   "metadata": {},
   "outputs": [
    {
     "data": {
      "text/latex": [
       "$\\displaystyle \\pi$"
      ],
      "text/plain": [
       "pi"
      ]
     },
     "execution_count": 15,
     "metadata": {},
     "output_type": "execute_result"
    }
   ],
   "source": [
    "inte.doit()"
   ]
  },
  {
   "cell_type": "markdown",
   "id": "behind-advantage",
   "metadata": {},
   "source": [
    "### Limits\n"
   ]
  },
  {
   "cell_type": "markdown",
   "id": "pleased-transfer",
   "metadata": {},
   "source": [
    "To compute a limit, the `limit` function is used."
   ]
  },
  {
   "cell_type": "code",
   "execution_count": 16,
   "id": "productive-advisory",
   "metadata": {},
   "outputs": [
    {
     "data": {
      "text/latex": [
       "$\\displaystyle 0$"
      ],
      "text/plain": [
       "0"
      ]
     },
     "execution_count": 16,
     "metadata": {},
     "output_type": "execute_result"
    }
   ],
   "source": [
    "limit(1/x, x, oo)"
   ]
  },
  {
   "cell_type": "markdown",
   "id": "decreased-criterion",
   "metadata": {},
   "source": [
    "`limit` should be used instead of regular substition (trough `subs`), whenever the point of evaluation is a singularity. \n",
    "\n",
    "Even though SymPy has objects to represent ∞, using them for evaluation is not reliable because they do not keep track of things like rate of growth. Also, things like ∞−∞ and ∞∞ return nan (not-a-number), since they represent indeterminate forms."
   ]
  },
  {
   "cell_type": "code",
   "execution_count": 17,
   "id": "desirable-offering",
   "metadata": {},
   "outputs": [
    {
     "data": {
      "text/latex": [
       "$\\displaystyle \\text{NaN}$"
      ],
      "text/plain": [
       "nan"
      ]
     },
     "execution_count": 17,
     "metadata": {},
     "output_type": "execute_result"
    }
   ],
   "source": [
    "expr = x/exp(x)\n",
    "expr.subs(x, oo)"
   ]
  },
  {
   "cell_type": "markdown",
   "id": "compact-examination",
   "metadata": {},
   "source": [
    "To evaluate a limit at one side only, pass `+` or `-` as a fourth argument to limit."
   ]
  },
  {
   "cell_type": "code",
   "execution_count": 18,
   "id": "substantial-dylan",
   "metadata": {},
   "outputs": [
    {
     "data": {
      "text/latex": [
       "$\\displaystyle \\lim_{x \\to 0^+} \\frac{1}{x}$"
      ],
      "text/plain": [
       "Limit(1/x, x, 0)"
      ]
     },
     "execution_count": 18,
     "metadata": {},
     "output_type": "execute_result"
    }
   ],
   "source": [
    "lim = Limit(1/x, x, 0, '+')\n",
    "lim"
   ]
  },
  {
   "cell_type": "code",
   "execution_count": 19,
   "id": "overall-involvement",
   "metadata": {},
   "outputs": [
    {
     "data": {
      "text/latex": [
       "$\\displaystyle \\infty$"
      ],
      "text/plain": [
       "oo"
      ]
     },
     "execution_count": 19,
     "metadata": {},
     "output_type": "execute_result"
    }
   ],
   "source": [
    "lim.doit()"
   ]
  },
  {
   "cell_type": "code",
   "execution_count": 20,
   "id": "choice-climb",
   "metadata": {},
   "outputs": [
    {
     "data": {
      "text/latex": [
       "$\\displaystyle \\lim_{x \\to 0^-} \\frac{1}{x}$"
      ],
      "text/plain": [
       "Limit(1/x, x, 0, dir='-')"
      ]
     },
     "execution_count": 20,
     "metadata": {},
     "output_type": "execute_result"
    }
   ],
   "source": [
    "lim = Limit(1/x, x, 0, '-')\n",
    "lim"
   ]
  },
  {
   "cell_type": "code",
   "execution_count": 21,
   "id": "ancient-morris",
   "metadata": {},
   "outputs": [
    {
     "data": {
      "text/latex": [
       "$\\displaystyle -\\infty$"
      ],
      "text/plain": [
       "-oo"
      ]
     },
     "execution_count": 21,
     "metadata": {},
     "output_type": "execute_result"
    }
   ],
   "source": [
    "lim.doit()"
   ]
  },
  {
   "cell_type": "markdown",
   "id": "declared-interface",
   "metadata": {},
   "source": [
    "## Solvers\n",
    "\n",
    "### Solving Algebraic Equations\n",
    "\n",
    "### Solving Differential Equations\n",
    "\n",
    "To solve differential equations, use dsolve. First, create an undefined function by passing cls=Function to the symbols function."
   ]
  },
  {
   "cell_type": "code",
   "execution_count": 22,
   "id": "recorded-capital",
   "metadata": {},
   "outputs": [],
   "source": [
    "f, g = symbols('f g', cls=Function)"
   ]
  },
  {
   "cell_type": "markdown",
   "id": "concerned-radio",
   "metadata": {},
   "source": [
    "f and g are now undefined functions. We can call f(x), and it will represent an unknown function."
   ]
  },
  {
   "cell_type": "code",
   "execution_count": 23,
   "id": "positive-temperature",
   "metadata": {},
   "outputs": [
    {
     "data": {
      "text/latex": [
       "$\\displaystyle f{\\left(x \\right)} - 2 \\frac{d}{d x} f{\\left(x \\right)} + \\frac{d^{2}}{d x^{2}} f{\\left(x \\right)} = \\sin{\\left(x \\right)}$"
      ],
      "text/plain": [
       "Eq(f(x) - 2*Derivative(f(x), x) + Derivative(f(x), (x, 2)), sin(x))"
      ]
     },
     "execution_count": 23,
     "metadata": {},
     "output_type": "execute_result"
    }
   ],
   "source": [
    "diffeq = Eq(f(x).diff(x, x) - 2 * f(x).diff(x) + f(x), sin(x))\n",
    "diffeq"
   ]
  },
  {
   "cell_type": "code",
   "execution_count": 24,
   "id": "about-pasta",
   "metadata": {},
   "outputs": [
    {
     "data": {
      "text/latex": [
       "$\\displaystyle f{\\left(x \\right)} = \\left(C_{1} + C_{2} x\\right) e^{x} + \\frac{\\cos{\\left(x \\right)}}{2}$"
      ],
      "text/plain": [
       "Eq(f(x), (C1 + C2*x)*exp(x) + cos(x)/2)"
      ]
     },
     "execution_count": 24,
     "metadata": {},
     "output_type": "execute_result"
    }
   ],
   "source": [
    "dsolve(diffeq)"
   ]
  },
  {
   "cell_type": "markdown",
   "id": "intensive-august",
   "metadata": {},
   "source": [
    "### Exercises\n",
    "\n",
    "1. Find 100 digits of $\\pi^{e}$\n",
    "2. Expand $(x + y)^{2}(x - y)(x^{2} + y)$\n",
    "3. Simplify $\\frac{1}{x} + \\frac{x sin(x) - 1}{x^{2} - 1}$\n",
    "4. Find roots of $x^{4} - 4x^{3} + 2x^{2} - x = 0$\n",
    "5. Solve the following equation system $x + y = 4$ and $x \\cdot y = 3$\n",
    "7. Calculate the left-sided limit of the function $\\frac{|x|}{x}$\n",
    "8. Calculate the definite integral of the function $cos^{3}{x}$ between 1 and ∞\n",
    "9. Solve the differential equation $f''(x) + 9f(x) = 1$"
   ]
  },
  {
   "cell_type": "markdown",
   "id": "lesser-crash",
   "metadata": {},
   "source": [
    "## Challenge"
   ]
  }
 ],
 "metadata": {
  "kernelspec": {
   "display_name": "Python 3",
   "language": "python",
   "name": "python3"
  },
  "language_info": {
   "codemirror_mode": {
    "name": "ipython",
    "version": 3
   },
   "file_extension": ".py",
   "mimetype": "text/x-python",
   "name": "python",
   "nbconvert_exporter": "python",
   "pygments_lexer": "ipython3",
   "version": "3.8.1"
  }
 },
 "nbformat": 4,
 "nbformat_minor": 5
}
