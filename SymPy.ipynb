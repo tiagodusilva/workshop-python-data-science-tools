{
 "cells": [
  {
   "cell_type": "markdown",
   "id": "structured-british",
   "metadata": {},
   "source": [
    "# SymPy\n",
    "\n",
    "## Useful information\n",
    "\n",
    "[PyPl](https://pypi.org/project/sympy/)  \n",
    "[Website](https://www.sympy.org/en/index.html)  \n",
    "[Documentation](https://docs.sympy.org/latest/index.html)  \n",
    "[Tutorial](https://docs.sympy.org/latest/tutorial/index.html)  \n",
    "[Cheatsheet](http://daabzlatex.s3.amazonaws.com/9065616cce623384fe5394eddfea4c52.pdf)\n",
    "\n",
    "<img src=\"https://upload.wikimedia.org/wikipedia/commons/thumb/5/54/Sympy_logo.svg/1200px-Sympy_logo.svg.png\" width=200 height=200/>\n",
    "\n",
    "## Introduction\n",
    "\n",
    "SymPy is an open source computer algebra system Python library for symbolic mathematics.\n",
    "\n",
    "To start using it, just import in Python, for example, like this."
   ]
  },
  {
   "cell_type": "code",
   "execution_count": 1,
   "id": "mathematical-words",
   "metadata": {},
   "outputs": [],
   "source": [
    "from sympy import *"
   ]
  },
  {
   "cell_type": "markdown",
   "id": "cubic-translator",
   "metadata": {},
   "source": [
    "## Basics\n",
    "\n",
    "### Symbols\n",
    "\n",
    " `Symbol` is the most important class in SymPy library. Symbolic computations are done with symbols. SymPy variables are objects of `Symbols` class."
   ]
  },
  {
   "cell_type": "markdown",
   "id": "tired-ending",
   "metadata": {},
   "source": [
    "To define a SymPy symbol, we can simply invoke its constructor with the respective variable's name."
   ]
  },
  {
   "cell_type": "code",
   "execution_count": 2,
   "id": "partial-dependence",
   "metadata": {},
   "outputs": [],
   "source": [
    "a = Symbol('a') "
   ]
  },
  {
   "cell_type": "markdown",
   "id": "human-galaxy",
   "metadata": {},
   "source": [
    "An easier way to define multiple symbols at once is unsing `symbols` method, which takes a string of variable names separated by spaces or commas, and creates `Symbols` out of them."
   ]
  },
  {
   "cell_type": "code",
   "execution_count": 3,
   "id": "pursuant-reading",
   "metadata": {},
   "outputs": [],
   "source": [
    "x, y, z = symbols('x y z')"
   ]
  },
  {
   "cell_type": "markdown",
   "id": "israeli-interference",
   "metadata": {},
   "source": [
    "## Operations\n",
    "\n",
    "### Substitutions\n",
    "\n",
    "One of the most common things you might want to do with a mathematical expression is substitution. Substitution replaces all instances of something in an expression with something else. It is done using the subs method. For example\n",
    "\n",
    "## Calculus\n",
    "\n",
    "### Derivative\n",
    "\n",
    "To compute a derivative the `diff`function is used."
   ]
  },
  {
   "cell_type": "code",
   "execution_count": 4,
   "id": "catholic-witness",
   "metadata": {},
   "outputs": [
    {
     "data": {
      "text/latex": [
       "$\\displaystyle - \\sin{\\left(x \\right)}$"
      ],
      "text/plain": [
       "-sin(x)"
      ]
     },
     "execution_count": 4,
     "metadata": {},
     "output_type": "execute_result"
    }
   ],
   "source": [
    "diff(cos(x), x)"
   ]
  },
  {
   "cell_type": "markdown",
   "id": "forty-cisco",
   "metadata": {},
   "source": [
    "`diff` can take multiple derivatives at once. To take multiple derivatives, pass the variable as many times as you wish to differentiate, or pass a number after the variable. "
   ]
  },
  {
   "cell_type": "code",
   "execution_count": 5,
   "id": "employed-custom",
   "metadata": {},
   "outputs": [
    {
     "data": {
      "text/latex": [
       "$\\displaystyle 24 x$"
      ],
      "text/plain": [
       "24*x"
      ]
     },
     "execution_count": 5,
     "metadata": {},
     "output_type": "execute_result"
    }
   ],
   "source": [
    "diff(x**4, x, x, x)"
   ]
  },
  {
   "cell_type": "code",
   "execution_count": 6,
   "id": "composite-radiation",
   "metadata": {},
   "outputs": [
    {
     "data": {
      "text/latex": [
       "$\\displaystyle 24 x$"
      ],
      "text/plain": [
       "24*x"
      ]
     },
     "execution_count": 6,
     "metadata": {},
     "output_type": "execute_result"
    }
   ],
   "source": [
    "diff(x**4, x, 3)"
   ]
  },
  {
   "cell_type": "markdown",
   "id": "sustainable-rating",
   "metadata": {},
   "source": [
    "You can also take derivatives with respect to many variables at once. Just pass each derivative in order, using the same syntax as for single variable derivatives."
   ]
  },
  {
   "cell_type": "code",
   "execution_count": 7,
   "id": "spread-folks",
   "metadata": {},
   "outputs": [
    {
     "data": {
      "text/latex": [
       "$\\displaystyle e^{x y z}$"
      ],
      "text/plain": [
       "exp(x*y*z)"
      ]
     },
     "execution_count": 7,
     "metadata": {},
     "output_type": "execute_result"
    }
   ],
   "source": [
    "expr = exp(x*y*z)\n",
    "expr"
   ]
  },
  {
   "cell_type": "code",
   "execution_count": 8,
   "id": "foreign-basis",
   "metadata": {},
   "outputs": [
    {
     "data": {
      "text/latex": [
       "$\\displaystyle \\left(x^{2} y^{2} z^{2} + 3 x y z + 1\\right) e^{x y z}$"
      ],
      "text/plain": [
       "(x**2*y**2*z**2 + 3*x*y*z + 1)*exp(x*y*z)"
      ]
     },
     "execution_count": 8,
     "metadata": {},
     "output_type": "execute_result"
    }
   ],
   "source": [
    "diff(expr, x, y, z)"
   ]
  },
  {
   "cell_type": "markdown",
   "id": "starting-newsletter",
   "metadata": {},
   "source": [
    "To create an unevaluated derivative, use the `Derivative` class, which has the same syntax as `diff`."
   ]
  },
  {
   "cell_type": "code",
   "execution_count": 9,
   "id": "unlimited-framework",
   "metadata": {},
   "outputs": [
    {
     "data": {
      "text/latex": [
       "$\\displaystyle \\frac{\\partial^{3}}{\\partial z\\partial y\\partial x} e^{x y z}$"
      ],
      "text/plain": [
       "Derivative(exp(x*y*z), x, y, z)"
      ]
     },
     "execution_count": 9,
     "metadata": {},
     "output_type": "execute_result"
    }
   ],
   "source": [
    "deriv = Derivative(expr, x, y, z)\n",
    "deriv"
   ]
  },
  {
   "cell_type": "markdown",
   "id": "adopted-session",
   "metadata": {},
   "source": [
    "To evaluate an unevaluated derivative, use the `doit` method."
   ]
  },
  {
   "cell_type": "code",
   "execution_count": 10,
   "id": "lasting-diana",
   "metadata": {},
   "outputs": [
    {
     "data": {
      "text/latex": [
       "$\\displaystyle \\left(x^{2} y^{2} z^{2} + 3 x y z + 1\\right) e^{x y z}$"
      ],
      "text/plain": [
       "(x**2*y**2*z**2 + 3*x*y*z + 1)*exp(x*y*z)"
      ]
     },
     "execution_count": 10,
     "metadata": {},
     "output_type": "execute_result"
    }
   ],
   "source": [
    "deriv.doit()"
   ]
  },
  {
   "cell_type": "markdown",
   "id": "indirect-camping",
   "metadata": {},
   "source": [
    "### Integration\n",
    "\n",
    "To compute an integral, the `integrate` function is used.\n",
    "\n",
    "There are two kinds of integrals, definite and indefinite. To compute an indefinite integral, that is, an antiderivative, or primitive, just pass the variable after the expression."
   ]
  },
  {
   "cell_type": "code",
   "execution_count": 11,
   "id": "special-calibration",
   "metadata": {},
   "outputs": [
    {
     "data": {
      "text/latex": [
       "$\\displaystyle x^{2} + x + 1$"
      ],
      "text/plain": [
       "x**2 + x + 1"
      ]
     },
     "execution_count": 11,
     "metadata": {},
     "output_type": "execute_result"
    }
   ],
   "source": [
    "expr = x**2 + x + 1 \n",
    "expr"
   ]
  },
  {
   "cell_type": "code",
   "execution_count": 12,
   "id": "theoretical-being",
   "metadata": {},
   "outputs": [
    {
     "data": {
      "text/latex": [
       "$\\displaystyle \\frac{x^{3}}{3} + \\frac{x^{2}}{2} + x$"
      ],
      "text/plain": [
       "x**3/3 + x**2/2 + x"
      ]
     },
     "execution_count": 12,
     "metadata": {},
     "output_type": "execute_result"
    }
   ],
   "source": [
    "integrate(expr, x)"
   ]
  },
  {
   "cell_type": "markdown",
   "id": "automotive-bloom",
   "metadata": {},
   "source": [
    "**Note**: SymPy does not include the constant of integration. If you want it, you can add one yourself"
   ]
  },
  {
   "cell_type": "markdown",
   "id": "southern-sharing",
   "metadata": {},
   "source": [
    "To compute a definite integral, pass the argument `(integration_variable, lower_limit, upper_limit)`.\n",
    "\n",
    "Here we are computing the famous [Dirichlet integral](https://en.wikipedia.org/wiki/Dirichlet_integral)."
   ]
  },
  {
   "cell_type": "code",
   "execution_count": 13,
   "id": "realistic-signal",
   "metadata": {},
   "outputs": [
    {
     "data": {
      "text/latex": [
       "$\\displaystyle \\frac{\\pi}{2}$"
      ],
      "text/plain": [
       "pi/2"
      ]
     },
     "execution_count": 13,
     "metadata": {},
     "output_type": "execute_result"
    }
   ],
   "source": [
    "integrate(sin(x)/x, (x, 0, oo))"
   ]
  },
  {
   "cell_type": "markdown",
   "id": "proud-found",
   "metadata": {},
   "source": [
    "As with indefinite integrals, you can pass multiple limit tuples or variables to perform a multiple integral."
   ]
  },
  {
   "cell_type": "code",
   "execution_count": 14,
   "id": "nervous-round",
   "metadata": {},
   "outputs": [
    {
     "data": {
      "text/latex": [
       "$\\displaystyle \\int\\limits_{-\\infty}^{\\infty}\\int\\limits_{-\\infty}^{\\infty} e^{- x^{2} - y^{2}}\\, dx\\, dy$"
      ],
      "text/plain": [
       "Integral(exp(-x**2 - y**2), (x, -oo, oo), (y, -oo, oo))"
      ]
     },
     "execution_count": 14,
     "metadata": {},
     "output_type": "execute_result"
    }
   ],
   "source": [
    "expr = exp(-x**2 - y**2)\n",
    "inte = Integral(expr, (x, -oo, oo), (y, -oo, oo))\n",
    "inte"
   ]
  },
  {
   "cell_type": "code",
   "execution_count": 15,
   "id": "rental-malpractice",
   "metadata": {},
   "outputs": [
    {
     "data": {
      "text/latex": [
       "$\\displaystyle \\pi$"
      ],
      "text/plain": [
       "pi"
      ]
     },
     "execution_count": 15,
     "metadata": {},
     "output_type": "execute_result"
    }
   ],
   "source": [
    "inte.doit()"
   ]
  },
  {
   "cell_type": "markdown",
   "id": "fourth-caution",
   "metadata": {},
   "source": [
    "### Limits\n"
   ]
  },
  {
   "cell_type": "markdown",
   "id": "appropriate-status",
   "metadata": {},
   "source": [
    "To compute a limit, the `limit` function is used."
   ]
  },
  {
   "cell_type": "code",
   "execution_count": 16,
   "id": "hourly-aggregate",
   "metadata": {},
   "outputs": [
    {
     "data": {
      "text/latex": [
       "$\\displaystyle 0$"
      ],
      "text/plain": [
       "0"
      ]
     },
     "execution_count": 16,
     "metadata": {},
     "output_type": "execute_result"
    }
   ],
   "source": [
    "limit(1/x, x, oo)"
   ]
  },
  {
   "cell_type": "markdown",
   "id": "minute-hygiene",
   "metadata": {},
   "source": [
    "`limit` should be used instead of regular substition (trough `subs`), whenever the point of evaluation is a singularity. \n",
    "\n",
    "Even though SymPy has objects to represent ∞, using them for evaluation is not reliable because they do not keep track of things like rate of growth. Also, things like ∞−∞ and ∞∞ return nan (not-a-number), since they represent indeterminate forms."
   ]
  },
  {
   "cell_type": "code",
   "execution_count": 17,
   "id": "ceramic-inclusion",
   "metadata": {},
   "outputs": [
    {
     "data": {
      "text/latex": [
       "$\\displaystyle \\text{NaN}$"
      ],
      "text/plain": [
       "nan"
      ]
     },
     "execution_count": 17,
     "metadata": {},
     "output_type": "execute_result"
    }
   ],
   "source": [
    "expr = x/exp(x)\n",
    "expr.subs(x, oo)"
   ]
  },
  {
   "cell_type": "markdown",
   "id": "greater-disco",
   "metadata": {},
   "source": [
    "To evaluate a limit at one side only, pass `+` or `-` as a fourth argument to limit."
   ]
  },
  {
   "cell_type": "code",
   "execution_count": 18,
   "id": "recent-duncan",
   "metadata": {},
   "outputs": [
    {
     "data": {
      "text/latex": [
       "$\\displaystyle \\lim_{x \\to 0^+} \\frac{1}{x}$"
      ],
      "text/plain": [
       "Limit(1/x, x, 0)"
      ]
     },
     "execution_count": 18,
     "metadata": {},
     "output_type": "execute_result"
    }
   ],
   "source": [
    "lim = Limit(1/x, x, 0, '+')\n",
    "lim"
   ]
  },
  {
   "cell_type": "code",
   "execution_count": 19,
   "id": "mobile-irish",
   "metadata": {},
   "outputs": [
    {
     "data": {
      "text/latex": [
       "$\\displaystyle \\infty$"
      ],
      "text/plain": [
       "oo"
      ]
     },
     "execution_count": 19,
     "metadata": {},
     "output_type": "execute_result"
    }
   ],
   "source": [
    "lim.doit()"
   ]
  },
  {
   "cell_type": "code",
   "execution_count": 20,
   "id": "geographic-coast",
   "metadata": {},
   "outputs": [
    {
     "data": {
      "text/latex": [
       "$\\displaystyle \\lim_{x \\to 0^-} \\frac{1}{x}$"
      ],
      "text/plain": [
       "Limit(1/x, x, 0, dir='-')"
      ]
     },
     "execution_count": 20,
     "metadata": {},
     "output_type": "execute_result"
    }
   ],
   "source": [
    "lim = Limit(1/x, x, 0, '-')\n",
    "lim"
   ]
  },
  {
   "cell_type": "code",
   "execution_count": 21,
   "id": "joint-chuck",
   "metadata": {},
   "outputs": [
    {
     "data": {
      "text/latex": [
       "$\\displaystyle -\\infty$"
      ],
      "text/plain": [
       "-oo"
      ]
     },
     "execution_count": 21,
     "metadata": {},
     "output_type": "execute_result"
    }
   ],
   "source": [
    "lim.doit()"
   ]
  },
  {
   "cell_type": "markdown",
   "id": "informal-tanzania",
   "metadata": {},
   "source": [
    "## Solvers\n",
    "\n",
    "### Equations\n",
    "\n",
    "Before we start solving equations, we must have a way to represent equations.\n",
    "\n",
    "To represent the equality `x = y`, we can't just write it like that, because that would a Python variable assignment.\n",
    "\n",
    "Neither can we use the double equals operator, since that would compare the value of the varaibles, not their symbolic meaning."
   ]
  },
  {
   "cell_type": "code",
   "execution_count": 26,
   "id": "prospective-yemen",
   "metadata": {},
   "outputs": [
    {
     "data": {
      "text/plain": [
       "False"
      ]
     },
     "execution_count": 26,
     "metadata": {},
     "output_type": "execute_result"
    }
   ],
   "source": [
    "x == y"
   ]
  },
  {
   "cell_type": "markdown",
   "id": "protective-jimmy",
   "metadata": {},
   "source": [
    "That being said, SymPy provides an `Eq` class to represent these types of equations."
   ]
  },
  {
   "cell_type": "code",
   "execution_count": 29,
   "id": "fixed-inflation",
   "metadata": {},
   "outputs": [
    {
     "data": {
      "text/latex": [
       "$\\displaystyle x = y$"
      ],
      "text/plain": [
       "Eq(x, y)"
      ]
     },
     "execution_count": 29,
     "metadata": {},
     "output_type": "execute_result"
    }
   ],
   "source": [
    "Eq(x, y)"
   ]
  },
  {
   "cell_type": "markdown",
   "id": "documentary-necklace",
   "metadata": {},
   "source": [
    "### Solving Algebraic Equations\n",
    "\n",
    "The main function for solving algebraic equations is `solveset`. The syntax for solveset is solveset(equation, variable=None, domain=S.Complexes) Where equations may be in the form of Eq instances or expressions that are assumed to be equal to zero."
   ]
  },
  {
   "cell_type": "markdown",
   "id": "legendary-presence",
   "metadata": {},
   "source": [
    "### Solving Differential Equations\n",
    "\n",
    "To solve differential equations, use dsolve. First, create an undefined function by passing cls=Function to the symbols function."
   ]
  },
  {
   "cell_type": "code",
   "execution_count": 25,
   "id": "framed-precipitation",
   "metadata": {},
   "outputs": [],
   "source": [
    "f, g = symbols('f g', cls=Function)"
   ]
  },
  {
   "cell_type": "markdown",
   "id": "funny-afghanistan",
   "metadata": {},
   "source": [
    "f and g are now undefined functions. We can call f(x), and it will represent an unknown function."
   ]
  },
  {
   "cell_type": "code",
   "execution_count": 23,
   "id": "described-paraguay",
   "metadata": {},
   "outputs": [
    {
     "data": {
      "text/latex": [
       "$\\displaystyle f{\\left(x \\right)} - 2 \\frac{d}{d x} f{\\left(x \\right)} + \\frac{d^{2}}{d x^{2}} f{\\left(x \\right)} = \\sin{\\left(x \\right)}$"
      ],
      "text/plain": [
       "Eq(f(x) - 2*Derivative(f(x), x) + Derivative(f(x), (x, 2)), sin(x))"
      ]
     },
     "execution_count": 23,
     "metadata": {},
     "output_type": "execute_result"
    }
   ],
   "source": [
    "diffeq = Eq(f(x).diff(x, x) - 2 * f(x).diff(x) + f(x), sin(x))\n",
    "diffeq"
   ]
  },
  {
   "cell_type": "code",
   "execution_count": 24,
   "id": "removed-mortgage",
   "metadata": {},
   "outputs": [
    {
     "data": {
      "text/latex": [
       "$\\displaystyle f{\\left(x \\right)} = \\left(C_{1} + C_{2} x\\right) e^{x} + \\frac{\\cos{\\left(x \\right)}}{2}$"
      ],
      "text/plain": [
       "Eq(f(x), (C1 + C2*x)*exp(x) + cos(x)/2)"
      ]
     },
     "execution_count": 24,
     "metadata": {},
     "output_type": "execute_result"
    }
   ],
   "source": [
    "dsolve(diffeq)"
   ]
  },
  {
   "cell_type": "markdown",
   "id": "level-douglas",
   "metadata": {},
   "source": [
    "### Exercises\n",
    "\n",
    "These are some exercises we propose for you to practice your SymPy's library syntax. Almost all of them can be done using ony one line.\n",
    "\n",
    "You can find the correspondent solutions [here](Solutions.ipynb).\n",
    "\n",
    "1. Find 100 digits of $\\pi^{e}$\n",
    "2. Expand $(x + y)^{2}(x - y)(x^{2} + y)$\n",
    "3. Simplify $\\frac{1}{x} + \\frac{x sin(x) - 1}{x^{2} - 1}$\n",
    "4. Find roots of $x^{4} - 4x^{3} + 2x^{2} - x = 0$\n",
    "5. Solve the following equation system $x + y = 4$ and $x \\cdot y = 3$\n",
    "7. Calculate the definite integral of the function $cos^{3}{x}$ between 0 and $\\frac{\\pi}{2}$\n",
    "8. Calculate the definite integral of the function $cos^{3}{x}$ between 1 and ∞\n",
    "9. Solve the differential equation $f''(x) + 9f(x) = 1$"
   ]
  },
  {
   "cell_type": "markdown",
   "id": "psychological-ethiopia",
   "metadata": {},
   "source": [
    "## Challenge\n"
   ]
  }
 ],
 "metadata": {
  "kernelspec": {
   "display_name": "Python 3",
   "language": "python",
   "name": "python3"
  },
  "language_info": {
   "codemirror_mode": {
    "name": "ipython",
    "version": 3
   },
   "file_extension": ".py",
   "mimetype": "text/x-python",
   "name": "python",
   "nbconvert_exporter": "python",
   "pygments_lexer": "ipython3",
   "version": "3.8.1"
  },
  "toc-autonumbering": false,
  "toc-showcode": false,
  "toc-showmarkdowntxt": false
 },
 "nbformat": 4,
 "nbformat_minor": 5
}
