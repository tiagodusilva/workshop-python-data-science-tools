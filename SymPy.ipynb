{
 "cells": [
  {
   "cell_type": "markdown",
   "id": "selected-blend",
   "metadata": {},
   "source": [
    "# SymPy\n",
    "\n",
    "## Useful information\n",
    "\n",
    "[PyPl](https://pypi.org/project/sympy/)  \n",
    "[Website](https://www.sympy.org/en/index.html)  \n",
    "[Documentation](https://docs.sympy.org/latest/index.html)  \n",
    "[Tutorial](https://docs.sympy.org/latest/tutorial/index.html)  \n",
    "[Cheatsheet](http://daabzlatex.s3.amazonaws.com/9065616cce623384fe5394eddfea4c52.pdf)\n",
    "\n",
    "<img src=\"https://upload.wikimedia.org/wikipedia/commons/thumb/5/54/Sympy_logo.svg/1200px-Sympy_logo.svg.png\" width=200 height=200/>"
   ]
  },
  {
   "cell_type": "markdown",
   "id": "advanced-decision",
   "metadata": {},
   "source": [
    "## Table of Contents\n",
    "\n",
    "* [Introduction](#introduction)\n",
    "  * [Basics](#basics)\n",
    "    + [Symbols](#symbols)\n",
    "  * [Operations](#operations)\n",
    "    + [Substitutions](#substitutions)\n",
    "    + [Evaluations](#evaluations)\n",
    "  * [Geometry](#geometry)\n",
    "  * [Calculus](#calculus)\n",
    "    + [Derivative](#derivative)\n",
    "    + [Integration](#integration)\n",
    "    + [Limits](#limits)\n",
    "  * [Solvers](#solvers)\n",
    "    + [Equations](#equations)\n",
    "    + [Solving Algebraic Equations](#solving-algebraic-equations)\n",
    "    + [Solving Differential Equations](#solving-differential-equations)\n",
    "    + [Exercises](#exercises)\n",
    "  * [Challenge](#challenge)"
   ]
  },
  {
   "cell_type": "markdown",
   "id": "crazy-chapel",
   "metadata": {},
   "source": [
    "## Introduction\n",
    "\n",
    "SymPy is an open source computer algebra system Python library for symbolic mathematics.\n",
    "\n",
    "To start using it, just import in Python, for example, like this."
   ]
  },
  {
   "cell_type": "code",
   "execution_count": 1,
   "id": "dietary-vehicle",
   "metadata": {},
   "outputs": [],
   "source": [
    "from sympy import *"
   ]
  },
  {
   "cell_type": "markdown",
   "id": "quarterly-aquarium",
   "metadata": {},
   "source": [
    "## Basics\n",
    "\n",
    "### Symbols\n",
    "\n",
    " `Symbol` is the most important class in SymPy library. Symbolic computations are done with symbols. SymPy variables are objects of `Symbols` class."
   ]
  },
  {
   "cell_type": "markdown",
   "id": "native-stream",
   "metadata": {},
   "source": [
    "To define a SymPy symbol, we can simply invoke its constructor with the respective variable's name."
   ]
  },
  {
   "cell_type": "code",
   "execution_count": 2,
   "id": "considerable-possession",
   "metadata": {},
   "outputs": [],
   "source": [
    "a = Symbol('a') "
   ]
  },
  {
   "cell_type": "markdown",
   "id": "correct-stick",
   "metadata": {},
   "source": [
    "An easier way to define multiple symbols at once is unsing `symbols` method, which takes a string of variable names separated by spaces or commas, and creates `Symbols` out of them."
   ]
  },
  {
   "cell_type": "markdown",
   "id": "figured-bunch",
   "metadata": {},
   "source": [
    "## Operations\n",
    "\n",
    "### Substitutions\n",
    "\n",
    "One of the most common things you might want to do with a mathematical expression is substitution. Substitution replaces all instances of something in an expression with something else. It is done using the `subs` method."
   ]
  },
  {
   "cell_type": "code",
   "execution_count": 52,
   "id": "still-rocket",
   "metadata": {},
   "outputs": [
    {
     "data": {
      "text/latex": [
       "$\\displaystyle \\cos{\\left(y \\right)} + 1$"
      ],
      "text/plain": [
       "cos(y) + 1"
      ]
     },
     "execution_count": 52,
     "metadata": {},
     "output_type": "execute_result"
    }
   ],
   "source": [
    "expr = cos(x) + 1\n",
    "expr.subs(x, y)"
   ]
  },
  {
   "cell_type": "markdown",
   "id": "laden-cartoon",
   "metadata": {},
   "source": [
    "We may also evaluate expressions at certain points"
   ]
  },
  {
   "cell_type": "code",
   "execution_count": 53,
   "id": "electoral-genome",
   "metadata": {},
   "outputs": [
    {
     "data": {
      "text/latex": [
       "$\\displaystyle 2$"
      ],
      "text/plain": [
       "2"
      ]
     },
     "execution_count": 53,
     "metadata": {},
     "output_type": "execute_result"
    }
   ],
   "source": [
    "expr.subs(x, 0)"
   ]
  },
  {
   "cell_type": "markdown",
   "id": "complex-cargo",
   "metadata": {},
   "source": [
    "### Evaluations"
   ]
  },
  {
   "cell_type": "markdown",
   "id": "charged-sixth",
   "metadata": {},
   "source": [
    "To evaluate a numerical expression into a floating point number, the `evalf` method is used."
   ]
  },
  {
   "cell_type": "code",
   "execution_count": 58,
   "id": "referenced-louisiana",
   "metadata": {},
   "outputs": [
    {
     "data": {
      "text/latex": [
       "$\\displaystyle 2.828427125$"
      ],
      "text/plain": [
       "2.828427125"
      ]
     },
     "execution_count": 58,
     "metadata": {},
     "output_type": "execute_result"
    }
   ],
   "source": [
    "expr = sqrt(8)\n",
    "expr.evalf(10)"
   ]
  },
  {
   "cell_type": "markdown",
   "id": "roman-reply",
   "metadata": {},
   "source": [
    "## Geometry\n",
    "\n",
    "The geometry module for SymPy allows one to create two-dimensional geometrical entities, such as lines and circles, and query for information about these entities.\n",
    "\n",
    "The following entities are currently available in the geometry module:\n",
    "\n",
    "- `Point`\n",
    "- `Line`, `Segment`, `Ray`\n",
    "- `Ellipse`, `Circle`\n",
    "- `Polygon`, `RegularPolygon`, `Triangle`\n"
   ]
  },
  {
   "cell_type": "code",
   "execution_count": 60,
   "id": "fifth-palestinian",
   "metadata": {},
   "outputs": [],
   "source": [
    "from sympy.geometry import *"
   ]
  },
  {
   "cell_type": "code",
   "execution_count": 63,
   "id": "linear-mason",
   "metadata": {},
   "outputs": [
    {
     "data": {
      "text/plain": [
       "True"
      ]
     },
     "execution_count": 63,
     "metadata": {},
     "output_type": "execute_result"
    }
   ],
   "source": [
    "x = Point(0, 0)\n",
    "y = Point(1, 1)\n",
    "z = Point(2, 2)\n",
    "zp = Point(1, 0)\n",
    "\n",
    "Point.is_collinear(x, y, z)"
   ]
  },
  {
   "cell_type": "code",
   "execution_count": 74,
   "id": "varied-weekly",
   "metadata": {},
   "outputs": [
    {
     "data": {
      "image/svg+xml": [
       "<svg xmlns=\"http://www.w3.org/2000/svg\"\n",
       "            xmlns:xlink=\"http://www.w3.org/1999/xlink\"\n",
       "            width=\"100.0\" height=\"100.0\" viewBox=\"-0.100000000000000 -0.100000000000000 1.20000000000000 1.20000000000000\"\n",
       "            preserveAspectRatio=\"xMinYMin meet\">\n",
       "            <defs>\n",
       "                <marker id=\"markerCircle\" markerWidth=\"8\" markerHeight=\"8\"\n",
       "                    refx=\"5\" refy=\"5\" markerUnits=\"strokeWidth\">\n",
       "                    <circle cx=\"5\" cy=\"5\" r=\"1.5\" style=\"stroke: none; fill:#000000;\"/>\n",
       "                </marker>\n",
       "                <marker id=\"markerArrow\" markerWidth=\"13\" markerHeight=\"13\" refx=\"2\" refy=\"4\"\n",
       "                       orient=\"auto\" markerUnits=\"strokeWidth\">\n",
       "                    <path d=\"M2,2 L2,6 L6,4\" style=\"fill: #000000;\" />\n",
       "                </marker>\n",
       "                <marker id=\"markerReverseArrow\" markerWidth=\"13\" markerHeight=\"13\" refx=\"6\" refy=\"4\"\n",
       "                       orient=\"auto\" markerUnits=\"strokeWidth\">\n",
       "                    <path d=\"M6,2 L6,6 L2,4\" style=\"fill: #000000;\" />\n",
       "                </marker>\n",
       "            </defs><g transform=\"matrix(1,0,0,-1,0,1.00000000000000)\"><path fill-rule=\"evenodd\" fill=\"#66cc99\" stroke=\"#555555\" stroke-width=\"0.0240000000000000\" opacity=\"0.6\" d=\"M 1.00000000000000,0 L 1.00000000000000,1.00000000000000 L 0,0 z\" /></g></svg>"
      ],
      "text/latex": [
       "$\\displaystyle Triangle\\left(Point2D\\left(1, 0\\right), Point2D\\left(1, 1\\right), Point2D\\left(0, 0\\right)\\right)$"
      ],
      "text/plain": [
       "Triangle(Point2D(1, 0), Point2D(1, 1), Point2D(0, 0))"
      ]
     },
     "execution_count": 74,
     "metadata": {},
     "output_type": "execute_result"
    }
   ],
   "source": [
    "Triangle(zp, y, x)"
   ]
  },
  {
   "cell_type": "code",
   "execution_count": 68,
   "id": "patient-contrast",
   "metadata": {},
   "outputs": [
    {
     "data": {
      "image/svg+xml": [
       "<svg xmlns=\"http://www.w3.org/2000/svg\"\n",
       "            xmlns:xlink=\"http://www.w3.org/1999/xlink\"\n",
       "            width=\"100.0\" height=\"100.0\" viewBox=\"-0.100000000000000 -0.100000000000000 1.20000000000000 0.700000000000000\"\n",
       "            preserveAspectRatio=\"xMinYMin meet\">\n",
       "            <defs>\n",
       "                <marker id=\"markerCircle\" markerWidth=\"8\" markerHeight=\"8\"\n",
       "                    refx=\"5\" refy=\"5\" markerUnits=\"strokeWidth\">\n",
       "                    <circle cx=\"5\" cy=\"5\" r=\"1.5\" style=\"stroke: none; fill:#000000;\"/>\n",
       "                </marker>\n",
       "                <marker id=\"markerArrow\" markerWidth=\"13\" markerHeight=\"13\" refx=\"2\" refy=\"4\"\n",
       "                       orient=\"auto\" markerUnits=\"strokeWidth\">\n",
       "                    <path d=\"M2,2 L2,6 L6,4\" style=\"fill: #000000;\" />\n",
       "                </marker>\n",
       "                <marker id=\"markerReverseArrow\" markerWidth=\"13\" markerHeight=\"13\" refx=\"6\" refy=\"4\"\n",
       "                       orient=\"auto\" markerUnits=\"strokeWidth\">\n",
       "                    <path d=\"M6,2 L6,6 L2,4\" style=\"fill: #000000;\" />\n",
       "                </marker>\n",
       "            </defs><g transform=\"matrix(1,0,0,-1,0,0.500000000000000)\"><path fill-rule=\"evenodd\" fill=\"#66cc99\" stroke=\"#555555\" stroke-width=\"0.0240000000000000\" opacity=\"0.6\" d=\"M 0,0 L 1.00000000000000,0.500000000000000\" /></g></svg>"
      ],
      "text/latex": [
       "$\\displaystyle Segment2D\\left(Point2D\\left(0, 0\\right), Point2D\\left(1, \\frac{1}{2}\\right)\\right)$"
      ],
      "text/plain": [
       "Segment2D(Point2D(0, 0), Point2D(1, 1/2))"
      ]
     },
     "execution_count": 68,
     "metadata": {},
     "output_type": "execute_result"
    }
   ],
   "source": [
    "t.medians[x]"
   ]
  },
  {
   "cell_type": "code",
   "execution_count": 75,
   "id": "earned-ecology",
   "metadata": {},
   "outputs": [
    {
     "data": {
      "image/svg+xml": [
       "<svg xmlns=\"http://www.w3.org/2000/svg\"\n",
       "            xmlns:xlink=\"http://www.w3.org/1999/xlink\"\n",
       "            width=\"100.0\" height=\"100.0\" viewBox=\"-6.00000000000000 -6.00000000000000 12.0000000000000 12.0000000000000\"\n",
       "            preserveAspectRatio=\"xMinYMin meet\">\n",
       "            <defs>\n",
       "                <marker id=\"markerCircle\" markerWidth=\"8\" markerHeight=\"8\"\n",
       "                    refx=\"5\" refy=\"5\" markerUnits=\"strokeWidth\">\n",
       "                    <circle cx=\"5\" cy=\"5\" r=\"1.5\" style=\"stroke: none; fill:#000000;\"/>\n",
       "                </marker>\n",
       "                <marker id=\"markerArrow\" markerWidth=\"13\" markerHeight=\"13\" refx=\"2\" refy=\"4\"\n",
       "                       orient=\"auto\" markerUnits=\"strokeWidth\">\n",
       "                    <path d=\"M2,2 L2,6 L6,4\" style=\"fill: #000000;\" />\n",
       "                </marker>\n",
       "                <marker id=\"markerReverseArrow\" markerWidth=\"13\" markerHeight=\"13\" refx=\"6\" refy=\"4\"\n",
       "                       orient=\"auto\" markerUnits=\"strokeWidth\">\n",
       "                    <path d=\"M6,2 L6,6 L2,4\" style=\"fill: #000000;\" />\n",
       "                </marker>\n",
       "            </defs><g transform=\"matrix(1,0,0,-1,0,0)\"><ellipse fill=\"#66cc99\" stroke=\"#555555\" stroke-width=\"0.240000000000000\" opacity=\"0.6\" cx=\"0\" cy=\"0\" rx=\"5.00000000000000\" ry=\"5.00000000000000\"/></g></svg>"
      ],
      "text/latex": [
       "$\\displaystyle Circle\\left(Point2D\\left(0, 0\\right), 5\\right)$"
      ],
      "text/plain": [
       "Circle(Point2D(0, 0), 5)"
      ]
     },
     "execution_count": 75,
     "metadata": {},
     "output_type": "execute_result"
    }
   ],
   "source": [
    "Circle(x, 5)"
   ]
  },
  {
   "cell_type": "markdown",
   "id": "concerned-invite",
   "metadata": {},
   "source": [
    "## Calculus\n",
    "\n",
    "### Derivative"
   ]
  },
  {
   "cell_type": "code",
   "execution_count": 3,
   "id": "statutory-termination",
   "metadata": {},
   "outputs": [],
   "source": [
    "x, y, z = symbols('x y z')"
   ]
  },
  {
   "cell_type": "code",
   "execution_count": 4,
   "id": "auburn-jacob",
   "metadata": {},
   "outputs": [
    {
     "data": {
      "text/latex": [
       "$\\displaystyle - \\sin{\\left(x \\right)}$"
      ],
      "text/plain": [
       "-sin(x)"
      ]
     },
     "execution_count": 4,
     "metadata": {},
     "output_type": "execute_result"
    }
   ],
   "source": [
    "diff(cos(x), x)"
   ]
  },
  {
   "cell_type": "markdown",
   "id": "sonic-horizontal",
   "metadata": {},
   "source": [
    "`diff` can take multiple derivatives at once. To take multiple derivatives, pass the variable as many times as you wish to differentiate, or pass a number after the variable. "
   ]
  },
  {
   "cell_type": "code",
   "execution_count": 5,
   "id": "convinced-hardware",
   "metadata": {},
   "outputs": [
    {
     "data": {
      "text/latex": [
       "$\\displaystyle 24 x$"
      ],
      "text/plain": [
       "24*x"
      ]
     },
     "execution_count": 5,
     "metadata": {},
     "output_type": "execute_result"
    }
   ],
   "source": [
    "diff(x**4, x, x, x)"
   ]
  },
  {
   "cell_type": "code",
   "execution_count": 6,
   "id": "killing-representation",
   "metadata": {},
   "outputs": [
    {
     "data": {
      "text/latex": [
       "$\\displaystyle 24 x$"
      ],
      "text/plain": [
       "24*x"
      ]
     },
     "execution_count": 6,
     "metadata": {},
     "output_type": "execute_result"
    }
   ],
   "source": [
    "diff(x**4, x, 3)"
   ]
  },
  {
   "cell_type": "markdown",
   "id": "social-chest",
   "metadata": {},
   "source": [
    "You can also take derivatives with respect to many variables at once. Just pass each derivative in order, using the same syntax as for single variable derivatives."
   ]
  },
  {
   "cell_type": "code",
   "execution_count": 7,
   "id": "freelance-happiness",
   "metadata": {},
   "outputs": [
    {
     "data": {
      "text/latex": [
       "$\\displaystyle e^{x y z}$"
      ],
      "text/plain": [
       "exp(x*y*z)"
      ]
     },
     "execution_count": 7,
     "metadata": {},
     "output_type": "execute_result"
    }
   ],
   "source": [
    "expr = exp(x*y*z)\n",
    "expr"
   ]
  },
  {
   "cell_type": "code",
   "execution_count": 8,
   "id": "individual-forward",
   "metadata": {},
   "outputs": [
    {
     "data": {
      "text/latex": [
       "$\\displaystyle \\left(x^{2} y^{2} z^{2} + 3 x y z + 1\\right) e^{x y z}$"
      ],
      "text/plain": [
       "(x**2*y**2*z**2 + 3*x*y*z + 1)*exp(x*y*z)"
      ]
     },
     "execution_count": 8,
     "metadata": {},
     "output_type": "execute_result"
    }
   ],
   "source": [
    "diff(expr, x, y, z)"
   ]
  },
  {
   "cell_type": "markdown",
   "id": "fantastic-somalia",
   "metadata": {},
   "source": [
    "To create an unevaluated derivative, use the `Derivative` class, which has the same syntax as `diff`."
   ]
  },
  {
   "cell_type": "code",
   "execution_count": 9,
   "id": "fifty-elevation",
   "metadata": {},
   "outputs": [
    {
     "data": {
      "text/latex": [
       "$\\displaystyle \\frac{\\partial^{3}}{\\partial z\\partial y\\partial x} e^{x y z}$"
      ],
      "text/plain": [
       "Derivative(exp(x*y*z), x, y, z)"
      ]
     },
     "execution_count": 9,
     "metadata": {},
     "output_type": "execute_result"
    }
   ],
   "source": [
    "deriv = Derivative(expr, x, y, z)\n",
    "deriv"
   ]
  },
  {
   "cell_type": "markdown",
   "id": "worthy-opportunity",
   "metadata": {},
   "source": [
    "To evaluate an unevaluated derivative, use the `doit` method."
   ]
  },
  {
   "cell_type": "code",
   "execution_count": 10,
   "id": "working-celebrity",
   "metadata": {},
   "outputs": [
    {
     "data": {
      "text/latex": [
       "$\\displaystyle \\left(x^{2} y^{2} z^{2} + 3 x y z + 1\\right) e^{x y z}$"
      ],
      "text/plain": [
       "(x**2*y**2*z**2 + 3*x*y*z + 1)*exp(x*y*z)"
      ]
     },
     "execution_count": 10,
     "metadata": {},
     "output_type": "execute_result"
    }
   ],
   "source": [
    "deriv.doit()"
   ]
  },
  {
   "cell_type": "markdown",
   "id": "headed-bikini",
   "metadata": {},
   "source": [
    "### Integration\n",
    "\n",
    "To compute an integral, the `integrate` function is used.\n",
    "\n",
    "There are two kinds of integrals, definite and indefinite. To compute an indefinite integral, that is, an antiderivative, or primitive, just pass the variable after the expression."
   ]
  },
  {
   "cell_type": "code",
   "execution_count": 11,
   "id": "fabulous-messenger",
   "metadata": {},
   "outputs": [
    {
     "data": {
      "text/latex": [
       "$\\displaystyle x^{2} + x + 1$"
      ],
      "text/plain": [
       "x**2 + x + 1"
      ]
     },
     "execution_count": 11,
     "metadata": {},
     "output_type": "execute_result"
    }
   ],
   "source": [
    "expr = x ** 2 + x + 1 \n",
    "expr"
   ]
  },
  {
   "cell_type": "code",
   "execution_count": 12,
   "id": "hindu-buffalo",
   "metadata": {},
   "outputs": [
    {
     "data": {
      "text/latex": [
       "$\\displaystyle \\frac{x^{3}}{3} + \\frac{x^{2}}{2} + x$"
      ],
      "text/plain": [
       "x**3/3 + x**2/2 + x"
      ]
     },
     "execution_count": 12,
     "metadata": {},
     "output_type": "execute_result"
    }
   ],
   "source": [
    "integrate(expr, x)"
   ]
  },
  {
   "cell_type": "markdown",
   "id": "functioning-surprise",
   "metadata": {},
   "source": [
    "**Note**: SymPy does not include the constant of integration. If you want it, you can add one yourself"
   ]
  },
  {
   "cell_type": "markdown",
   "id": "clean-spain",
   "metadata": {},
   "source": [
    "To compute a definite integral, pass the argument `(integration_variable, lower_limit, upper_limit)`.\n",
    "\n",
    "Here we are computing the famous [Dirichlet integral](https://en.wikipedia.org/wiki/Dirichlet_integral)."
   ]
  },
  {
   "cell_type": "code",
   "execution_count": 13,
   "id": "heavy-seven",
   "metadata": {},
   "outputs": [
    {
     "data": {
      "text/latex": [
       "$\\displaystyle \\frac{\\pi}{2}$"
      ],
      "text/plain": [
       "pi/2"
      ]
     },
     "execution_count": 13,
     "metadata": {},
     "output_type": "execute_result"
    }
   ],
   "source": [
    "integrate(sin(x)/x, (x, 0, oo))"
   ]
  },
  {
   "cell_type": "markdown",
   "id": "inside-humanitarian",
   "metadata": {},
   "source": [
    "As with indefinite integrals, you can pass multiple limit tuples or variables to perform a multiple integral."
   ]
  },
  {
   "cell_type": "code",
   "execution_count": 14,
   "id": "received-asthma",
   "metadata": {},
   "outputs": [
    {
     "data": {
      "text/latex": [
       "$\\displaystyle \\int\\limits_{-\\infty}^{\\infty}\\int\\limits_{-\\infty}^{\\infty} e^{- x^{2} - y^{2}}\\, dx\\, dy$"
      ],
      "text/plain": [
       "Integral(exp(-x**2 - y**2), (x, -oo, oo), (y, -oo, oo))"
      ]
     },
     "execution_count": 14,
     "metadata": {},
     "output_type": "execute_result"
    }
   ],
   "source": [
    "expr = exp(-x**2 - y**2)\n",
    "inte = Integral(expr, (x, -oo, oo), (y, -oo, oo))\n",
    "inte"
   ]
  },
  {
   "cell_type": "code",
   "execution_count": 15,
   "id": "instructional-future",
   "metadata": {},
   "outputs": [
    {
     "data": {
      "text/latex": [
       "$\\displaystyle \\pi$"
      ],
      "text/plain": [
       "pi"
      ]
     },
     "execution_count": 15,
     "metadata": {},
     "output_type": "execute_result"
    }
   ],
   "source": [
    "inte.doit()"
   ]
  },
  {
   "cell_type": "markdown",
   "id": "operating-shell",
   "metadata": {},
   "source": [
    "### Limits\n"
   ]
  },
  {
   "cell_type": "markdown",
   "id": "polish-bahamas",
   "metadata": {},
   "source": [
    "To compute a limit, the `limit` function is used."
   ]
  },
  {
   "cell_type": "code",
   "execution_count": 16,
   "id": "exact-mexico",
   "metadata": {},
   "outputs": [
    {
     "data": {
      "text/latex": [
       "$\\displaystyle 0$"
      ],
      "text/plain": [
       "0"
      ]
     },
     "execution_count": 16,
     "metadata": {},
     "output_type": "execute_result"
    }
   ],
   "source": [
    "limit(1/x, x, oo)"
   ]
  },
  {
   "cell_type": "markdown",
   "id": "surgical-airfare",
   "metadata": {},
   "source": [
    "`limit` should be used instead of regular substition (trough `subs`), whenever the point of evaluation is a singularity. \n",
    "\n",
    "Even though SymPy has objects to represent ∞, using them for evaluation is not reliable because they do not keep track of things like rate of growth. Also, things like ∞−∞ and ∞∞ return nan (not-a-number), since they represent indeterminate forms."
   ]
  },
  {
   "cell_type": "code",
   "execution_count": 17,
   "id": "sudden-approach",
   "metadata": {},
   "outputs": [
    {
     "data": {
      "text/latex": [
       "$\\displaystyle \\text{NaN}$"
      ],
      "text/plain": [
       "nan"
      ]
     },
     "execution_count": 17,
     "metadata": {},
     "output_type": "execute_result"
    }
   ],
   "source": [
    "expr = x/exp(x)\n",
    "expr.subs(x, oo)"
   ]
  },
  {
   "cell_type": "markdown",
   "id": "filled-construction",
   "metadata": {},
   "source": [
    "To evaluate a limit at one side only, pass `+` or `-` as a fourth argument to limit."
   ]
  },
  {
   "cell_type": "code",
   "execution_count": 18,
   "id": "democratic-exhaust",
   "metadata": {},
   "outputs": [
    {
     "data": {
      "text/latex": [
       "$\\displaystyle \\lim_{x \\to 0^+} \\frac{1}{x}$"
      ],
      "text/plain": [
       "Limit(1/x, x, 0)"
      ]
     },
     "execution_count": 18,
     "metadata": {},
     "output_type": "execute_result"
    }
   ],
   "source": [
    "lim = Limit(1/x, x, 0, '+')\n",
    "lim"
   ]
  },
  {
   "cell_type": "code",
   "execution_count": 19,
   "id": "surprised-argentina",
   "metadata": {},
   "outputs": [
    {
     "data": {
      "text/latex": [
       "$\\displaystyle \\infty$"
      ],
      "text/plain": [
       "oo"
      ]
     },
     "execution_count": 19,
     "metadata": {},
     "output_type": "execute_result"
    }
   ],
   "source": [
    "lim.doit()"
   ]
  },
  {
   "cell_type": "code",
   "execution_count": 20,
   "id": "olympic-society",
   "metadata": {},
   "outputs": [
    {
     "data": {
      "text/latex": [
       "$\\displaystyle \\lim_{x \\to 0^-} \\frac{1}{x}$"
      ],
      "text/plain": [
       "Limit(1/x, x, 0, dir='-')"
      ]
     },
     "execution_count": 20,
     "metadata": {},
     "output_type": "execute_result"
    }
   ],
   "source": [
    "lim = Limit(1/x, x, 0, '-')\n",
    "lim"
   ]
  },
  {
   "cell_type": "code",
   "execution_count": 21,
   "id": "successful-return",
   "metadata": {},
   "outputs": [
    {
     "data": {
      "text/latex": [
       "$\\displaystyle -\\infty$"
      ],
      "text/plain": [
       "-oo"
      ]
     },
     "execution_count": 21,
     "metadata": {},
     "output_type": "execute_result"
    }
   ],
   "source": [
    "lim.doit()"
   ]
  },
  {
   "cell_type": "markdown",
   "id": "billion-difference",
   "metadata": {},
   "source": [
    "## Solvers\n",
    "\n",
    "### Equations\n",
    "\n",
    "Before we start solving equations, we must have a way to represent equations.\n",
    "\n",
    "To represent the equality `x = y`, we can't just write it like that, because that would a Python variable assignment.\n",
    "\n",
    "Neither can we use the double equals operator, since that would compare the value of the varaibles, not their symbolic meaning."
   ]
  },
  {
   "cell_type": "code",
   "execution_count": 22,
   "id": "activated-packing",
   "metadata": {},
   "outputs": [
    {
     "data": {
      "text/plain": [
       "False"
      ]
     },
     "execution_count": 22,
     "metadata": {},
     "output_type": "execute_result"
    }
   ],
   "source": [
    "x == y"
   ]
  },
  {
   "cell_type": "markdown",
   "id": "metropolitan-melissa",
   "metadata": {},
   "source": [
    "That being said, SymPy provides an `Eq` class to represent these types of equations."
   ]
  },
  {
   "cell_type": "code",
   "execution_count": 23,
   "id": "abroad-priority",
   "metadata": {},
   "outputs": [
    {
     "data": {
      "text/latex": [
       "$\\displaystyle x = y$"
      ],
      "text/plain": [
       "Eq(x, y)"
      ]
     },
     "execution_count": 23,
     "metadata": {},
     "output_type": "execute_result"
    }
   ],
   "source": [
    "Eq(x, y)"
   ]
  },
  {
   "cell_type": "markdown",
   "id": "proprietary-fancy",
   "metadata": {},
   "source": [
    "### Solving Algebraic Equations\n",
    "\n",
    "The main function for solving algebraic equations is `solveset`. The syntax for it is `solveset(equation, variable=None, domain=S.Complexes)`\n",
    "\n",
    "Equations may be in the form of `Eq` instances or expressions that are assumed to be equal to zero.\n",
    "\n",
    "There is another function called `solve` which can also be used to solve equations. The syntax is `solve(equations, variables)`."
   ]
  },
  {
   "cell_type": "code",
   "execution_count": 24,
   "id": "governmental-radiation",
   "metadata": {},
   "outputs": [
    {
     "data": {
      "text/latex": [
       "$\\displaystyle \\left\\{0, 1\\right\\}$"
      ],
      "text/plain": [
       "FiniteSet(0, 1)"
      ]
     },
     "execution_count": 24,
     "metadata": {},
     "output_type": "execute_result"
    }
   ],
   "source": [
    "solveset(x**2 - x, x)"
   ]
  },
  {
   "cell_type": "code",
   "execution_count": 37,
   "id": "liberal-murder",
   "metadata": {},
   "outputs": [
    {
     "data": {
      "text/latex": [
       "$\\displaystyle \\mathbb{R}$"
      ],
      "text/plain": [
       "Reals"
      ]
     },
     "execution_count": 37,
     "metadata": {},
     "output_type": "execute_result"
    }
   ],
   "source": [
    "solveset(x - x, x, domain=S.Reals)"
   ]
  },
  {
   "cell_type": "code",
   "execution_count": 39,
   "id": "widespread-genetics",
   "metadata": {},
   "outputs": [
    {
     "data": {
      "text/latex": [
       "$\\displaystyle \\left\\{2 n \\pi + \\frac{\\pi}{2}\\; |\\; n \\in \\mathbb{Z}\\right\\}$"
      ],
      "text/plain": [
       "ImageSet(Lambda(_n, 2*_n*pi + pi/2), Integers)"
      ]
     },
     "execution_count": 39,
     "metadata": {},
     "output_type": "execute_result"
    }
   ],
   "source": [
    "solveset(sin(x) - 1, x)"
   ]
  },
  {
   "cell_type": "code",
   "execution_count": 40,
   "id": "addressed-webmaster",
   "metadata": {},
   "outputs": [
    {
     "data": {
      "text/plain": [
       "[pi/2]"
      ]
     },
     "execution_count": 40,
     "metadata": {},
     "output_type": "execute_result"
    }
   ],
   "source": [
    "solve(sin(x) - 1, x)"
   ]
  },
  {
   "cell_type": "markdown",
   "id": "editorial-mistake",
   "metadata": {},
   "source": [
    "As you can notice, `solveset` and `solve` return different results for the same equation. That's because they used different methods to solving. \n",
    "\n",
    "`solveset` uses algebraic methods, whereas `solve` uses numerical methods, so it's always advised to use `solveset` when possible.\n",
    "\n",
    "Similar to `solveset`, `linsolve` and `nonlinsolve` might be used to solve linear and non-linear equation systems, respectively."
   ]
  },
  {
   "cell_type": "code",
   "execution_count": 42,
   "id": "virtual-appendix",
   "metadata": {},
   "outputs": [
    {
     "data": {
      "text/latex": [
       "$\\displaystyle \\left\\{\\left( - y - 1, \\  y, \\  2\\right)\\right\\}$"
      ],
      "text/plain": [
       "FiniteSet((-y - 1, y, 2))"
      ]
     },
     "execution_count": 42,
     "metadata": {},
     "output_type": "execute_result"
    }
   ],
   "source": [
    "linsolve([x + y + z - 1, x + y + 2*z - 3 ], (x, y, z))"
   ]
  },
  {
   "cell_type": "code",
   "execution_count": 49,
   "id": "complicated-bridal",
   "metadata": {},
   "outputs": [
    {
     "data": {
      "text/latex": [
       "$\\displaystyle \\left\\{\\left( 0, \\  0\\right), \\left( \\frac{1}{4}, \\  \\frac{1}{2}\\right)\\right\\}$"
      ],
      "text/plain": [
       "FiniteSet((0, 0), (1/4, 1/2))"
      ]
     },
     "execution_count": 49,
     "metadata": {},
     "output_type": "execute_result"
    }
   ],
   "source": [
    "nonlinsolve([x * 2 - y, y ** 2 - x], x, y)"
   ]
  },
  {
   "cell_type": "markdown",
   "id": "abandoned-timeline",
   "metadata": {},
   "source": [
    "### Solving Differential Equations\n",
    "\n",
    "To solve differential equations, use dsolve. First, create an undefined function by passing `cls=Function` to the symbols function."
   ]
  },
  {
   "cell_type": "code",
   "execution_count": 25,
   "id": "outdoor-custom",
   "metadata": {},
   "outputs": [],
   "source": [
    "f, g = symbols('f g', cls=Function)"
   ]
  },
  {
   "cell_type": "markdown",
   "id": "headed-plate",
   "metadata": {},
   "source": [
    "`f` and `g` are now undefined functions. We can call f(x), and it will represent an unknown function."
   ]
  },
  {
   "cell_type": "code",
   "execution_count": 26,
   "id": "contrary-blast",
   "metadata": {},
   "outputs": [
    {
     "data": {
      "text/latex": [
       "$\\displaystyle f{\\left(x \\right)} - 2 \\frac{d}{d x} f{\\left(x \\right)} + \\frac{d^{2}}{d x^{2}} f{\\left(x \\right)} = \\sin{\\left(x \\right)}$"
      ],
      "text/plain": [
       "Eq(f(x) - 2*Derivative(f(x), x) + Derivative(f(x), (x, 2)), sin(x))"
      ]
     },
     "execution_count": 26,
     "metadata": {},
     "output_type": "execute_result"
    }
   ],
   "source": [
    "diffeq = Eq(f(x).diff(x, x) - 2 * f(x).diff(x) + f(x), sin(x))\n",
    "diffeq"
   ]
  },
  {
   "cell_type": "code",
   "execution_count": 27,
   "id": "elementary-lexington",
   "metadata": {},
   "outputs": [
    {
     "data": {
      "text/latex": [
       "$\\displaystyle f{\\left(x \\right)} = \\left(C_{1} + C_{2} x\\right) e^{x} + \\frac{\\cos{\\left(x \\right)}}{2}$"
      ],
      "text/plain": [
       "Eq(f(x), (C1 + C2*x)*exp(x) + cos(x)/2)"
      ]
     },
     "execution_count": 27,
     "metadata": {},
     "output_type": "execute_result"
    }
   ],
   "source": [
    "dsolve(diffeq)"
   ]
  },
  {
   "cell_type": "markdown",
   "id": "accessory-pressing",
   "metadata": {},
   "source": [
    "### Exercises\n",
    "\n",
    "These are some exercises we propose for you to practice your SymPy's library syntax. Almost all of them can be done using ony one line.\n",
    "\n",
    "You can find the correspondent solutions [here](Solutions.ipynb).\n",
    "\n",
    "1. Find 100 digits of $\\pi^{e}$\n",
    "2. Expand $(x + y)^{2}(x - y)(x^{2} + y)$\n",
    "3. Simplify $\\frac{1}{x} + \\frac{x sin(x) - 1}{x^{2} - 1}$\n",
    "4. Find roots of $x^{4} - 4x^{3} + 2x^{2} - x = 0$\n",
    "5. Solve the following equation system $x + y = 4$ and $x \\cdot y = 3$\n",
    "7. Calculate the definite integral of the function $cos^{3}{x}$ between 0 and $\\frac{\\pi}{2}$\n",
    "8. Calculate the definite integral of the function $cos^{3}{x}$ between 1 and ∞\n",
    "9. Solve the differential equation $f''(x) + 9f(x) = 1$"
   ]
  },
  {
   "cell_type": "markdown",
   "id": "senior-caribbean",
   "metadata": {},
   "source": [
    "## Challenge\n",
    "\n",
    "1. Suppose you have the function `f(x) = x ** 3 - 2` and a circle placed in coordinates `(0, 3)` with radius 5.\n",
    "2. Integrate the function between the two points where it intersects the circle\n",
    "3. Replace *n* in the following ODE `f''(x) + f(x) - 1`  by the value you obtained in the last step.\n",
    "4. Solve the EDO.\n",
    "5. Evaluate its value at `x = 4` to 10 decimal places."
   ]
  }
 ],
 "metadata": {
  "kernelspec": {
   "display_name": "Python 3",
   "language": "python",
   "name": "python3"
  },
  "language_info": {
   "codemirror_mode": {
    "name": "ipython",
    "version": 3
   },
   "file_extension": ".py",
   "mimetype": "text/x-python",
   "name": "python",
   "nbconvert_exporter": "python",
   "pygments_lexer": "ipython3",
   "version": "3.8.1"
  },
  "toc-autonumbering": false,
  "toc-showcode": false,
  "toc-showmarkdowntxt": false
 },
 "nbformat": 4,
 "nbformat_minor": 5
}
