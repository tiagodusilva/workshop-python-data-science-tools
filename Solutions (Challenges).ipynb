{
 "cells": [
  {
   "cell_type": "markdown",
   "id": "dynamic-reynolds",
   "metadata": {},
   "source": [
    "# Solutions (Challenges)\n",
    "\n",
    "## NumPy"
   ]
  },
  {
   "cell_type": "code",
   "execution_count": 1,
   "id": "moral-machinery",
   "metadata": {},
   "outputs": [],
   "source": [
    "import numpy as np\n",
    "from math import cos, sin, ceil"
   ]
  },
  {
   "cell_type": "markdown",
   "id": "expired-republic",
   "metadata": {},
   "source": [
    "1. Suppose you have the following vectors `[1, 2, 3]` and `[8, 0, 4]`."
   ]
  },
  {
   "cell_type": "code",
   "execution_count": 2,
   "id": "numerical-auditor",
   "metadata": {},
   "outputs": [],
   "source": [
    "a = np.array([1, 2, 3])\n",
    "b = np.array([8, 0, 4])"
   ]
  },
  {
   "cell_type": "markdown",
   "id": "particular-consequence",
   "metadata": {},
   "source": [
    "2. Calculate a vector perpendicular to them."
   ]
  },
  {
   "cell_type": "code",
   "execution_count": 3,
   "id": "neural-raising",
   "metadata": {},
   "outputs": [
    {
     "data": {
      "text/plain": [
       "array([  8,  20, -16])"
      ]
     },
     "execution_count": 3,
     "metadata": {},
     "output_type": "execute_result"
    }
   ],
   "source": [
    "c = np.cross(a, b)\n",
    "c"
   ]
  },
  {
   "cell_type": "markdown",
   "id": "worth-hanging",
   "metadata": {},
   "source": [
    "3. Rotate it by 45º degrees around the X axis."
   ]
  },
  {
   "cell_type": "code",
   "execution_count": 4,
   "id": "fourth-start",
   "metadata": {},
   "outputs": [
    {
     "data": {
      "text/plain": [
       "array([ 8.        , 25.45584412,  2.82842712,  1.        ])"
      ]
     },
     "execution_count": 4,
     "metadata": {},
     "output_type": "execute_result"
    }
   ],
   "source": [
    "c = np.hstack([c, 1])\n",
    "\n",
    "α = np.pi / 4\n",
    "\n",
    "R = np.array([\n",
    "    [1, 0, 0, 0],\n",
    "    [0, cos(α), -sin(α), 0],\n",
    "    [0, sin(α), cos(α), 0],\n",
    "    [0, 0, 0, 1]\n",
    "])\n",
    "\n",
    "c = R.dot(c)\n",
    "c"
   ]
  },
  {
   "cell_type": "markdown",
   "id": "relative-individual",
   "metadata": {},
   "source": [
    "4. Scale it by 150% in the Z axis."
   ]
  },
  {
   "cell_type": "code",
   "execution_count": 5,
   "id": "tamil-helicopter",
   "metadata": {},
   "outputs": [
    {
     "data": {
      "text/plain": [
       "array([ 8.        , 25.45584412,  4.24264069,  1.        ])"
      ]
     },
     "execution_count": 5,
     "metadata": {},
     "output_type": "execute_result"
    }
   ],
   "source": [
    "S = np.array([\n",
    "    [1, 0, 0, 0],\n",
    "    [0, 1, 0, 0],\n",
    "    [0, 0, 1.5, 0],\n",
    "    [0, 0, 0, 1]\n",
    "])\n",
    "\n",
    "c = S.dot(c)\n",
    "c"
   ]
  },
  {
   "cell_type": "markdown",
   "id": "current-audit",
   "metadata": {},
   "source": [
    "5. Translate it by 10 units in the Y axis."
   ]
  },
  {
   "cell_type": "code",
   "execution_count": 6,
   "id": "bearing-moore",
   "metadata": {},
   "outputs": [
    {
     "data": {
      "text/plain": [
       "array([ 8.        , 35.45584412,  4.24264069,  1.        ])"
      ]
     },
     "execution_count": 6,
     "metadata": {},
     "output_type": "execute_result"
    }
   ],
   "source": [
    "T = np.array([\n",
    "    [1, 0, 0, 0],\n",
    "    [0, 1, 0, 10],\n",
    "    [0, 0, 1, 0],\n",
    "    [0, 0, 0, 1]\n",
    "])\n",
    "\n",
    "c = T.dot(c)\n",
    "c"
   ]
  },
  {
   "cell_type": "markdown",
   "id": "minimal-somalia",
   "metadata": {},
   "source": [
    "6. Check what's the biggest coordinate value of the resulting vector. "
   ]
  },
  {
   "cell_type": "code",
   "execution_count": 16,
   "id": "divided-muscle",
   "metadata": {},
   "outputs": [
    {
     "data": {
      "text/plain": [
       "35.45584412271571"
      ]
     },
     "execution_count": 16,
     "metadata": {},
     "output_type": "execute_result"
    }
   ],
   "source": [
    "c = c[:3]\n",
    "\n",
    "m = np.max(c)\n",
    "m"
   ]
  },
  {
   "cell_type": "markdown",
   "id": "trying-cycle",
   "metadata": {},
   "source": [
    "7. Create a vector with that same number (rounded up) of evenly spaced values (between 0 and 100) and sum the first half of them."
   ]
  },
  {
   "cell_type": "code",
   "execution_count": 8,
   "id": "respected-school",
   "metadata": {},
   "outputs": [
    {
     "data": {
      "text/plain": [
       "437.1428571428571"
      ]
     },
     "execution_count": 8,
     "metadata": {},
     "output_type": "execute_result"
    }
   ],
   "source": [
    "m = ceil(m)\n",
    "\n",
    "d = np.linspace(0, 100, m)\n",
    "e = np.hsplit(d, 2)[0]\n",
    "\n",
    "np.sum(e)"
   ]
  },
  {
   "cell_type": "markdown",
   "id": "accessory-hazard",
   "metadata": {},
   "source": [
    "## SymPy"
   ]
  },
  {
   "cell_type": "code",
   "execution_count": 9,
   "id": "drawn-package",
   "metadata": {},
   "outputs": [],
   "source": [
    "from sympy import *"
   ]
  },
  {
   "cell_type": "markdown",
   "id": "laden-nightmare",
   "metadata": {},
   "source": [
    "1. Suppose you have the function $f(x) = x^{3} - 2$ and the points $(2, 3)$ and $(4, 5)$."
   ]
  },
  {
   "cell_type": "code",
   "execution_count": 10,
   "id": "excess-flour",
   "metadata": {},
   "outputs": [
    {
     "data": {
      "text/latex": [
       "$\\displaystyle x^{3} - 2$"
      ],
      "text/plain": [
       "x**3 - 2"
      ]
     },
     "execution_count": 10,
     "metadata": {},
     "output_type": "execute_result"
    }
   ],
   "source": [
    "x, y = symbols(\"x y\")\n",
    "\n",
    "f = x ** 3 - 2\n",
    "\n",
    "P1 = Point(2, 3)\n",
    "P2 = Point(4, 5)\n",
    "\n",
    "f"
   ]
  },
  {
   "cell_type": "markdown",
   "id": "public-protest",
   "metadata": {},
   "source": [
    "2. Obtain the median point of a line connecting those two points and admit a circle centered there and with radius 2."
   ]
  },
  {
   "cell_type": "code",
   "execution_count": 11,
   "id": "twenty-pickup",
   "metadata": {},
   "outputs": [
    {
     "data": {
      "text/latex": [
       "$\\displaystyle Point2D\\left(3, 4\\right)$"
      ],
      "text/plain": [
       "Point2D(3, 4)"
      ]
     },
     "execution_count": 11,
     "metadata": {},
     "output_type": "execute_result"
    }
   ],
   "source": [
    "l = Segment2D(P1, P2)\n",
    "P = l.midpoint    \n",
    "P"
   ]
  },
  {
   "cell_type": "markdown",
   "id": "lyric-things",
   "metadata": {},
   "source": [
    "3. Integrate the function between the two points where it intersects the circle."
   ]
  },
  {
   "cell_type": "code",
   "execution_count": 12,
   "id": "industrial-advantage",
   "metadata": {},
   "outputs": [
    {
     "data": {
      "text/latex": [
       "$\\displaystyle \\int\\limits_{1.65354369756428}^{1.97622742101293} \\left(x^{3} - 2\\right)\\, dx$"
      ],
      "text/plain": [
       "Integral(x**3 - 2, (x, 1.65354369756428, 1.97622742101293))"
      ]
     },
     "execution_count": 12,
     "metadata": {},
     "output_type": "execute_result"
    }
   ],
   "source": [
    "C = Eq((x - P.x) ** 2 + (y - P.y) ** 2, 4)\n",
    "\n",
    "C1, C2 = solveset(C.subs({y: f}), x,domain=Reals)\n",
    "\n",
    "intr = Integral(f, (x, C1.evalf(), C2.evalf()))    \n",
    "\n",
    "intr"
   ]
  },
  {
   "cell_type": "markdown",
   "id": "missing-middle",
   "metadata": {},
   "source": [
    "4. Replace *n* in the following ODE $g''(x) + g(x) = n$  by the first decimal digit of the value you obtained in the last step."
   ]
  },
  {
   "cell_type": "code",
   "execution_count": 13,
   "id": "massive-attempt",
   "metadata": {},
   "outputs": [
    {
     "data": {
      "text/latex": [
       "$\\displaystyle \\frac{d}{d x} g{\\left(x \\right)} + \\frac{d^{2}}{d x^{2}} g{\\left(x \\right)} = 2$"
      ],
      "text/plain": [
       "Eq(Derivative(g(x), x) + Derivative(g(x), (x, 2)), 2)"
      ]
     },
     "execution_count": 13,
     "metadata": {},
     "output_type": "execute_result"
    }
   ],
   "source": [
    "n = int((intr.doit() - int(intr)) * 10)  \n",
    "\n",
    "g = symbols(\"g\", cls=Function)\n",
    "\n",
    "diffeq = Eq(g(x).diff(x, x) + g(x).diff(x), n)\n",
    "\n",
    "diffeq"
   ]
  },
  {
   "cell_type": "markdown",
   "id": "gentle-pencil",
   "metadata": {},
   "source": [
    "5. Solve the ODE (admit 1 for constant values. **Note:** Take a look at `ics` argument)."
   ]
  },
  {
   "cell_type": "code",
   "execution_count": 14,
   "id": "olive-gates",
   "metadata": {},
   "outputs": [
    {
     "data": {
      "text/latex": [
       "$\\displaystyle g{\\left(x \\right)} = 2 x + e^{- x}$"
      ],
      "text/plain": [
       "Eq(g(x), 2*x + exp(-x))"
      ]
     },
     "execution_count": 14,
     "metadata": {},
     "output_type": "execute_result"
    }
   ],
   "source": [
    "ics = {g(0): 1, g(x).diff(x).subs(x, 0): 1}\n",
    "\n",
    "s = dsolve(diffeq, ics=ics)\n",
    "\n",
    "s"
   ]
  },
  {
   "cell_type": "markdown",
   "id": "flying-referral",
   "metadata": {},
   "source": [
    "6. Evaluate its value at $x = 4$ and compute the difference to 10 decimal places."
   ]
  },
  {
   "cell_type": "code",
   "execution_count": 15,
   "id": "bigger-independence",
   "metadata": {},
   "outputs": [
    {
     "data": {
      "text/latex": [
       "$\\displaystyle g{\\left(4 \\right)} = 8.018315639$"
      ],
      "text/plain": [
       "Eq(g(4), 8.018315639)"
      ]
     },
     "execution_count": 15,
     "metadata": {},
     "output_type": "execute_result"
    }
   ],
   "source": [
    "s.subs(x, 4).evalf(10)    "
   ]
  }
 ],
 "metadata": {
  "kernelspec": {
   "display_name": "Python 3",
   "language": "python",
   "name": "python3"
  },
  "language_info": {
   "codemirror_mode": {
    "name": "ipython",
    "version": 3
   },
   "file_extension": ".py",
   "mimetype": "text/x-python",
   "name": "python",
   "nbconvert_exporter": "python",
   "pygments_lexer": "ipython3",
   "version": "3.8.1"
  }
 },
 "nbformat": 4,
 "nbformat_minor": 5
}
