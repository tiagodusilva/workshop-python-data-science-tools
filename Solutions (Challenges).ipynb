{
 "cells": [
  {
   "cell_type": "markdown",
   "id": "approximate-focus",
   "metadata": {},
   "source": [
    "# Solutions (Challenges)\n",
    "\n",
    "## NumPy"
   ]
  },
  {
   "cell_type": "markdown",
   "id": "earlier-mongolia",
   "metadata": {},
   "source": [
    "## SymPy"
   ]
  },
  {
   "cell_type": "code",
   "execution_count": 1,
   "id": "given-burke",
   "metadata": {},
   "outputs": [],
   "source": [
    "from sympy import *"
   ]
  },
  {
   "cell_type": "markdown",
   "id": "saved-astronomy",
   "metadata": {},
   "source": [
    "1. Suppose you have the function $f(x) = x^{3} - 2$ and the points $(2, 3)$ and $(4, 5)$."
   ]
  },
  {
   "cell_type": "code",
   "execution_count": 2,
   "id": "stuck-exhibit",
   "metadata": {},
   "outputs": [
    {
     "data": {
      "text/latex": [
       "$\\displaystyle x^{3} - 2$"
      ],
      "text/plain": [
       "x**3 - 2"
      ]
     },
     "execution_count": 2,
     "metadata": {},
     "output_type": "execute_result"
    }
   ],
   "source": [
    "x, y = symbols(\"x y\")\n",
    "\n",
    "f = x ** 3 - 2\n",
    "\n",
    "P1 = Point(2, 3)\n",
    "P2 = Point(4, 5)\n",
    "\n",
    "f"
   ]
  },
  {
   "cell_type": "markdown",
   "id": "nominated-synthesis",
   "metadata": {},
   "source": [
    "2. Obtain the median point of a line connecting those two points and admit a circle centered there and with radius 2."
   ]
  },
  {
   "cell_type": "code",
   "execution_count": 3,
   "id": "defensive-island",
   "metadata": {},
   "outputs": [
    {
     "data": {
      "text/latex": [
       "$\\displaystyle Point2D\\left(3, 4\\right)$"
      ],
      "text/plain": [
       "Point2D(3, 4)"
      ]
     },
     "execution_count": 3,
     "metadata": {},
     "output_type": "execute_result"
    }
   ],
   "source": [
    "l = Segment2D(P1, P2)\n",
    "P = l.midpoint    \n",
    "P"
   ]
  },
  {
   "cell_type": "markdown",
   "id": "sufficient-ultimate",
   "metadata": {},
   "source": [
    "3. Integrate the function between the two points where it intersects the circle."
   ]
  },
  {
   "cell_type": "code",
   "execution_count": 4,
   "id": "hawaiian-brazilian",
   "metadata": {},
   "outputs": [
    {
     "data": {
      "text/latex": [
       "$\\displaystyle \\int\\limits_{1.65354369756428}^{1.97622742101293} \\left(x^{3} - 2\\right)\\, dx$"
      ],
      "text/plain": [
       "Integral(x**3 - 2, (x, 1.65354369756428, 1.97622742101293))"
      ]
     },
     "execution_count": 4,
     "metadata": {},
     "output_type": "execute_result"
    }
   ],
   "source": [
    "C = Eq((x - P.x) ** 2 + (y - P.y) ** 2, 4)\n",
    "\n",
    "C1, C2 = solveset(C.subs({y: f}), x,domain=Reals)\n",
    "\n",
    "intr = Integral(f, (x, C1.evalf(), C2.evalf()))    \n",
    "\n",
    "intr"
   ]
  },
  {
   "cell_type": "markdown",
   "id": "desirable-google",
   "metadata": {},
   "source": [
    "4. Replace *n* in the following ODE $g''(x) + g(x) = n$  by the first decimal digit of the value you obtained in the last step."
   ]
  },
  {
   "cell_type": "code",
   "execution_count": 5,
   "id": "understanding-jordan",
   "metadata": {},
   "outputs": [
    {
     "data": {
      "text/latex": [
       "$\\displaystyle \\frac{d}{d x} g{\\left(x \\right)} + \\frac{d^{2}}{d x^{2}} g{\\left(x \\right)} = 2$"
      ],
      "text/plain": [
       "Eq(Derivative(g(x), x) + Derivative(g(x), (x, 2)), 2)"
      ]
     },
     "execution_count": 5,
     "metadata": {},
     "output_type": "execute_result"
    }
   ],
   "source": [
    "n = int((intr.doit() - int(intr)) * 10)  \n",
    "\n",
    "g = symbols(\"g\", cls=Function)\n",
    "\n",
    "diffeq = Eq(g(x).diff(x, x) + g(x).diff(x), n)\n",
    "\n",
    "diffeq"
   ]
  },
  {
   "cell_type": "markdown",
   "id": "organic-training",
   "metadata": {},
   "source": [
    "5. Solve the ODE (admit 1 for constant values. **Note:** Take a look at `ics` argument)."
   ]
  },
  {
   "cell_type": "code",
   "execution_count": 6,
   "id": "invalid-queens",
   "metadata": {},
   "outputs": [
    {
     "data": {
      "text/latex": [
       "$\\displaystyle g{\\left(x \\right)} = 2 x + e^{- x}$"
      ],
      "text/plain": [
       "Eq(g(x), 2*x + exp(-x))"
      ]
     },
     "execution_count": 6,
     "metadata": {},
     "output_type": "execute_result"
    }
   ],
   "source": [
    "ics = {g(0): 1, g(x).diff(x).subs(x, 0): 1}\n",
    "\n",
    "s = dsolve(diffeq, ics=ics)\n",
    "\n",
    "s"
   ]
  },
  {
   "cell_type": "markdown",
   "id": "conditional-relevance",
   "metadata": {},
   "source": [
    "6. Evaluate its value at $x = 4$ and compute the difference to 10 decimal places."
   ]
  },
  {
   "cell_type": "code",
   "execution_count": 7,
   "id": "european-strike",
   "metadata": {},
   "outputs": [
    {
     "data": {
      "text/latex": [
       "$\\displaystyle g{\\left(4 \\right)} = 8.018315639$"
      ],
      "text/plain": [
       "Eq(g(4), 8.018315639)"
      ]
     },
     "execution_count": 7,
     "metadata": {},
     "output_type": "execute_result"
    }
   ],
   "source": [
    "s.subs(x, 4).evalf(10)    "
   ]
  }
 ],
 "metadata": {
  "kernelspec": {
   "display_name": "Python 3",
   "language": "python",
   "name": "python3"
  },
  "language_info": {
   "codemirror_mode": {
    "name": "ipython",
    "version": 3
   },
   "file_extension": ".py",
   "mimetype": "text/x-python",
   "name": "python",
   "nbconvert_exporter": "python",
   "pygments_lexer": "ipython3",
   "version": "3.8.1"
  }
 },
 "nbformat": 4,
 "nbformat_minor": 5
}
