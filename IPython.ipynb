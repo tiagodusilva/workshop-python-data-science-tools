{
 "cells": [
  {
   "cell_type": "markdown",
   "metadata": {},
   "source": [
    "# Why IPython?\n",
    "\n",
    "IPython stands for Interactive Python, as such its main focus is on an interactive shell or in jupyter notebooks (such as the ones used for creating this workshop)."
   ]
  },
  {
   "cell_type": "markdown",
   "metadata": {},
   "source": [
    "## IPython vs the REPL\n",
    "\n",
    "IPython expands upon the REPL, by facilitating the access to documentation, by introducing the characters `?`, `??`, introducing autocompletion, magic commands and more.  \n",
    "For an overview of IPython's features, run the command `?`.  \n",
    "For a 'short' reference to IPython, use the `%quickref` command.\n",
    "\n",
    "The command `object?` gives details about the object, such as its type and internal state. Calling `object??` may yield extra details.\n"
   ]
  },
  {
   "cell_type": "code",
   "execution_count": 1,
   "metadata": {},
   "outputs": [
    {
     "data": {
      "text/plain": [
       "\u001b[1;31mType:\u001b[0m        list\n",
       "\u001b[1;31mString form:\u001b[0m [1, 2, 3]\n",
       "\u001b[1;31mLength:\u001b[0m      3\n",
       "\u001b[1;31mDocstring:\u001b[0m  \n",
       "Built-in mutable sequence.\n",
       "\n",
       "If no argument is given, the constructor creates a new empty list.\n",
       "The argument must be an iterable if specified.\n"
      ]
     },
     "metadata": {},
     "output_type": "display_data"
    }
   ],
   "source": [
    "l = [1, 2, 3]\n",
    "l?"
   ]
  },
  {
   "cell_type": "markdown",
   "metadata": {},
   "source": [
    "However, this does not replace the built-in `help()` function, as this would show different information. Running `help(l)` would have yielded all the methods that could be called through the list `l`."
   ]
  },
  {
   "cell_type": "markdown",
   "metadata": {},
   "source": [
    "### Hiding the Output\n",
    "\n",
    "By ending the last line of a cell with a semicolon `;` we tell IPython to disregard its output."
   ]
  },
  {
   "cell_type": "code",
   "execution_count": 2,
   "metadata": {},
   "outputs": [
    {
     "data": {
      "text/plain": [
       "'Hello world!'"
      ]
     },
     "execution_count": 2,
     "metadata": {},
     "output_type": "execute_result"
    }
   ],
   "source": [
    "\"Hello world!\""
   ]
  },
  {
   "cell_type": "code",
   "execution_count": 3,
   "metadata": {},
   "outputs": [],
   "source": [
    "\"Hello world!\";"
   ]
  },
  {
   "cell_type": "markdown",
   "metadata": {},
   "source": [
    "# Magic Functions\n",
    "\n",
    "Magic functions are a set of predefined IPython commands in a command line style syntax. They can be **line oriented** or **cell oriented**.\n",
    "\n",
    "**Line magics** are prefixed with `%` and receive the rest of the line as arguments, without parenthesis or quotes.  \n",
    "**Cell magics** are prefixed with `%%` and instead receives not only the line, but the lines below it as a separate argument.\n",
    "\n",
    "For an example, let's use the magic `%timeit`, which supports both line and cell mode and measures the time a certain span of code took to run:"
   ]
  },
  {
   "cell_type": "code",
   "execution_count": null,
   "metadata": {},
   "outputs": [],
   "source": [
    "%timeit range(1000)"
   ]
  },
  {
   "cell_type": "code",
   "execution_count": null,
   "metadata": {},
   "outputs": [],
   "source": [
    "%timeit x = max(range(1000))"
   ]
  },
  {
   "cell_type": "code",
   "execution_count": null,
   "metadata": {},
   "outputs": [],
   "source": [
    "%%timeit l = range(1000)\n",
    "x = max(l)"
   ]
  },
  {
   "cell_type": "markdown",
   "metadata": {},
   "source": [
    "***Note:*** Trying to use cell magic for a single line will result in an error"
   ]
  },
  {
   "cell_type": "markdown",
   "metadata": {},
   "source": [
    "Another useful magic to use in notebooks is the cell magic `%%capture`, which prevents any output from that cell."
   ]
  },
  {
   "cell_type": "markdown",
   "metadata": {},
   "source": [
    "For more magics and details, explore using the `%magic` and the aforementioned `%quickref` commands!"
   ]
  }
 ],
 "metadata": {
  "kernelspec": {
   "display_name": "Python 3",
   "language": "python",
   "name": "python3"
  },
  "language_info": {
   "codemirror_mode": {
    "name": "ipython",
    "version": 3
   },
   "file_extension": ".py",
   "mimetype": "text/x-python",
   "name": "python",
   "nbconvert_exporter": "python",
   "pygments_lexer": "ipython3",
   "version": "3.8.3"
  }
 },
 "nbformat": 4,
 "nbformat_minor": 4
}
