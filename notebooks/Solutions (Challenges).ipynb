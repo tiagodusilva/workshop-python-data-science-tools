{
 "cells": [
  {
   "cell_type": "markdown",
   "id": "historic-briefing",
   "metadata": {},
   "source": [
    "# Solutions (Challenges)\n",
    "\n",
    "## NumPy"
   ]
  },
  {
   "cell_type": "code",
   "execution_count": 1,
   "id": "northern-munich",
   "metadata": {},
   "outputs": [],
   "source": [
    "import numpy as np\n",
    "from math import cos, sin, ceil"
   ]
  },
  {
   "cell_type": "markdown",
   "id": "choice-sculpture",
   "metadata": {},
   "source": [
    "1. Suppose you have the following vectors `[1, 2, 3]` and `[8, 0, 4]`."
   ]
  },
  {
   "cell_type": "code",
   "execution_count": 2,
   "id": "stuck-chapter",
   "metadata": {},
   "outputs": [],
   "source": [
    "a = np.array([1, 2, 3])\n",
    "b = np.array([8, 0, 4])"
   ]
  },
  {
   "cell_type": "markdown",
   "id": "favorite-newspaper",
   "metadata": {},
   "source": [
    "2. Calculate a vector perpendicular to them."
   ]
  },
  {
   "cell_type": "code",
   "execution_count": 3,
   "id": "white-musician",
   "metadata": {},
   "outputs": [
    {
     "data": {
      "text/plain": [
       "array([  8,  20, -16])"
      ]
     },
     "execution_count": 3,
     "metadata": {},
     "output_type": "execute_result"
    }
   ],
   "source": [
    "c = np.cross(a, b)\n",
    "c"
   ]
  },
  {
   "cell_type": "markdown",
   "id": "biblical-maldives",
   "metadata": {},
   "source": [
    "3. Rotate it by 45º degrees around the X axis."
   ]
  },
  {
   "cell_type": "code",
   "execution_count": 4,
   "id": "european-southeast",
   "metadata": {},
   "outputs": [
    {
     "data": {
      "text/plain": [
       "array([ 8.        , 25.45584412,  2.82842712,  1.        ])"
      ]
     },
     "execution_count": 4,
     "metadata": {},
     "output_type": "execute_result"
    }
   ],
   "source": [
    "c = np.hstack([c, 1])\n",
    "\n",
    "α = np.pi / 4\n",
    "\n",
    "R = np.array([\n",
    "    [1, 0, 0, 0],\n",
    "    [0, cos(α), -sin(α), 0],\n",
    "    [0, sin(α), cos(α), 0],\n",
    "    [0, 0, 0, 1]\n",
    "])\n",
    "\n",
    "c = R.dot(c)\n",
    "c"
   ]
  },
  {
   "cell_type": "markdown",
   "id": "historical-iceland",
   "metadata": {},
   "source": [
    "4. Scale it by 150% in the Z axis."
   ]
  },
  {
   "cell_type": "code",
   "execution_count": 5,
   "id": "valued-formula",
   "metadata": {},
   "outputs": [
    {
     "data": {
      "text/plain": [
       "array([ 8.        , 25.45584412,  4.24264069,  1.        ])"
      ]
     },
     "execution_count": 5,
     "metadata": {},
     "output_type": "execute_result"
    }
   ],
   "source": [
    "S = np.array([\n",
    "    [1, 0, 0, 0],\n",
    "    [0, 1, 0, 0],\n",
    "    [0, 0, 1.5, 0],\n",
    "    [0, 0, 0, 1]\n",
    "])\n",
    "\n",
    "c = S.dot(c)\n",
    "c"
   ]
  },
  {
   "cell_type": "markdown",
   "id": "gorgeous-thousand",
   "metadata": {},
   "source": [
    "5. Translate it by 10 units in the Y axis."
   ]
  },
  {
   "cell_type": "code",
   "execution_count": 6,
   "id": "sweet-addiction",
   "metadata": {},
   "outputs": [
    {
     "data": {
      "text/plain": [
       "array([ 8.        , 35.45584412,  4.24264069,  1.        ])"
      ]
     },
     "execution_count": 6,
     "metadata": {},
     "output_type": "execute_result"
    }
   ],
   "source": [
    "T = np.array([\n",
    "    [1, 0, 0, 0],\n",
    "    [0, 1, 0, 10],\n",
    "    [0, 0, 1, 0],\n",
    "    [0, 0, 0, 1]\n",
    "])\n",
    "\n",
    "c = T.dot(c)\n",
    "c"
   ]
  },
  {
   "cell_type": "markdown",
   "id": "robust-transport",
   "metadata": {},
   "source": [
    "6. Check what's the biggest coordinate value of the resulting vector. "
   ]
  },
  {
   "cell_type": "code",
   "execution_count": 7,
   "id": "grateful-world",
   "metadata": {},
   "outputs": [
    {
     "data": {
      "text/plain": [
       "35.45584412271571"
      ]
     },
     "execution_count": 7,
     "metadata": {},
     "output_type": "execute_result"
    }
   ],
   "source": [
    "c = c[:3]\n",
    "\n",
    "m = np.max(c)\n",
    "m"
   ]
  },
  {
   "cell_type": "markdown",
   "id": "charged-float",
   "metadata": {},
   "source": [
    "7. Create a vector with that same number (rounded up) of evenly spaced values (between 0 and 100) and sum the first half of them."
   ]
  },
  {
   "cell_type": "code",
   "execution_count": 8,
   "id": "injured-workplace",
   "metadata": {},
   "outputs": [
    {
     "data": {
      "text/plain": [
       "437.1428571428571"
      ]
     },
     "execution_count": 8,
     "metadata": {},
     "output_type": "execute_result"
    }
   ],
   "source": [
    "m = ceil(m)\n",
    "\n",
    "d = np.linspace(0, 100, m)\n",
    "e = np.hsplit(d, 2)[0]\n",
    "\n",
    "np.sum(e)"
   ]
  },
  {
   "cell_type": "markdown",
   "id": "mental-blond",
   "metadata": {},
   "source": [
    "## Matplotlib"
   ]
  },
  {
   "cell_type": "code",
   "execution_count": 12,
   "id": "dependent-warrant",
   "metadata": {},
   "outputs": [],
   "source": [
    "import numpy as np\n",
    "import matplotlib.pyplot as plt"
   ]
  },
  {
   "cell_type": "markdown",
   "id": "pleasant-forum",
   "metadata": {},
   "source": [
    "1. Generate a random data array\n",
    "2. Plot it using a scatter plot taking their weight into consideration\n",
    "3. Divide the plot into three (split it in 2/3 horizontally and then split the right 1/3 in half vertically)\n",
    "4. Represent the histogram for that data in the first subplot\n",
    "5. Represent an unweighted scatter plot for that data in the second subplot"
   ]
  },
  {
   "cell_type": "code",
   "execution_count": 14,
   "id": "disabled-canal",
   "metadata": {},
   "outputs": [
    {
     "data": {
      "text/plain": [
       "Text(0.5, 1.0, 'Unweighted scatter plot')"
      ]
     },
     "execution_count": 14,
     "metadata": {},
     "output_type": "execute_result"
    },
    {
     "data": {
      "image/png": "[encoded data removed]",
      "text/plain": [
       "<Figure size 576x396 with 4 Axes>"
      ]
     },
     "metadata": {},
     "output_type": "display_data"
    }
   ],
   "source": [
    "plt.style.use('seaborn')\n",
    "\n",
    "x = np.random.random(50)\n",
    "y = np.random.random(50)\n",
    "w = abs(np.random.randn(50)) * 150\n",
    "\n",
    "fig = plt.figure()\n",
    "fig.suptitle('Scatter with normal distributed weights')\n",
    "gs = fig.add_gridspec(2, 3, hspace=0.25, wspace=0.5)\n",
    "\n",
    "ax1 = fig.add_subplot(gs[:, :2])  # Main Scatter plot\n",
    "ax2 = fig.add_subplot(gs[0, 2])  # Histogram\n",
    "ax3 = fig.add_subplot(gs[1, 2])  # Secondary Scatter plot\n",
    "\n",
    "# Main Scatter\n",
    "scatter1 = ax1.scatter(x, y, s=w, c=w, cmap='inferno', alpha=0.5, edgecolors='k', linewidths=1)\n",
    "# ax1.set_axis_off()\n",
    "\n",
    "# vertical colorbar (Just for curiosity)\n",
    "from mpl_toolkits.axes_grid1.axes_divider import make_axes_locatable\n",
    "ax1_divider = make_axes_locatable(ax1)\n",
    "# Add an axes to the right of the main axes.\n",
    "cax1 = ax1_divider.append_axes(\"right\", size=\"5%\", pad=\"5%\", )\n",
    "cb1 = fig.colorbar(scatter1, cax=cax1)\n",
    "\n",
    "# Histogram\n",
    "ax2.hist(y, bins=10, weights=w, orientation='horizontal', color='indigo')\n",
    "ax2.set_title('Weighed distribution along y axis')\n",
    "\n",
    "# Secondary Scatter\n",
    "ax3.plot(x, y, ls='', marker='.', c='indigo')\n",
    "ax3.set_title('Unweighted scatter plot')"
   ]
  },
  {
   "cell_type": "markdown",
   "id": "strange-checklist",
   "metadata": {},
   "source": [
    "## SymPy"
   ]
  },
  {
   "cell_type": "code",
   "execution_count": null,
   "id": "bored-voltage",
   "metadata": {},
   "outputs": [],
   "source": [
    "from sympy import *"
   ]
  },
  {
   "cell_type": "markdown",
   "id": "facial-peripheral",
   "metadata": {},
   "source": [
    "1. Suppose you have the function $f(x) = x^{3} - 2$ and the points $(2, 3)$ and $(4, 5)$."
   ]
  },
  {
   "cell_type": "code",
   "execution_count": null,
   "id": "normal-preservation",
   "metadata": {},
   "outputs": [],
   "source": [
    "x, y = symbols(\"x y\")\n",
    "\n",
    "f = x ** 3 - 2\n",
    "\n",
    "P1 = Point(2, 3)\n",
    "P2 = Point(4, 5)\n",
    "\n",
    "f"
   ]
  },
  {
   "cell_type": "markdown",
   "id": "relative-robinson",
   "metadata": {},
   "source": [
    "2. Obtain the median point of a line connecting those two points and admit a circle centered there and with radius 2."
   ]
  },
  {
   "cell_type": "code",
   "execution_count": null,
   "id": "located-huntington",
   "metadata": {},
   "outputs": [],
   "source": [
    "l = Segment2D(P1, P2)\n",
    "P = l.midpoint    \n",
    "P"
   ]
  },
  {
   "cell_type": "markdown",
   "id": "editorial-plaintiff",
   "metadata": {},
   "source": [
    "3. Integrate the function between the two points where it intersects the circle."
   ]
  },
  {
   "cell_type": "code",
   "execution_count": null,
   "id": "incredible-parker",
   "metadata": {},
   "outputs": [],
   "source": [
    "C = Eq((x - P.x) ** 2 + (y - P.y) ** 2, 4)\n",
    "\n",
    "C1, C2 = solveset(C.subs({y: f}), x,domain=Reals)\n",
    "\n",
    "intr = Integral(f, (x, C1.evalf(), C2.evalf()))    \n",
    "\n",
    "intr"
   ]
  },
  {
   "cell_type": "markdown",
   "id": "fundamental-birthday",
   "metadata": {},
   "source": [
    "4. Replace *n* in the following ODE $g''(x) + g(x) = n$  by the first decimal digit of the value you obtained in the last step."
   ]
  },
  {
   "cell_type": "code",
   "execution_count": null,
   "id": "rental-zimbabwe",
   "metadata": {},
   "outputs": [],
   "source": [
    "n = int((intr.doit() - int(intr)) * 10)  \n",
    "\n",
    "g = symbols(\"g\", cls=Function)\n",
    "\n",
    "diffeq = Eq(g(x).diff(x, x) + g(x).diff(x), n)\n",
    "\n",
    "diffeq"
   ]
  },
  {
   "cell_type": "markdown",
   "id": "impaired-smooth",
   "metadata": {},
   "source": [
    "5. Solve the ODE (admit 1 for constant values. **Note:** Take a look at `ics` argument)."
   ]
  },
  {
   "cell_type": "code",
   "execution_count": null,
   "id": "pregnant-worse",
   "metadata": {},
   "outputs": [],
   "source": [
    "ics = {g(0): 1, g(x).diff(x).subs(x, 0): 1}\n",
    "\n",
    "s = dsolve(diffeq, ics=ics)\n",
    "\n",
    "s"
   ]
  },
  {
   "cell_type": "markdown",
   "id": "familiar-trance",
   "metadata": {},
   "source": [
    "6. Evaluate its value at $x = 4$ and compute the difference to 10 decimal places."
   ]
  },
  {
   "cell_type": "code",
   "execution_count": null,
   "id": "expired-freeze",
   "metadata": {},
   "outputs": [],
   "source": [
    "s.subs(x, 4).evalf(10)    "
   ]
  }
 ],
 "metadata": {
  "kernelspec": {
   "display_name": "Python 3",
   "language": "python",
   "name": "python3"
  },
  "language_info": {
   "codemirror_mode": {
    "name": "ipython",
    "version": 3
   },
   "file_extension": ".py",
   "mimetype": "text/x-python",
   "name": "python",
   "nbconvert_exporter": "python",
   "pygments_lexer": "ipython3",
   "version": "3.8.1"
  }
 },
 "nbformat": 4,
 "nbformat_minor": 5
}
